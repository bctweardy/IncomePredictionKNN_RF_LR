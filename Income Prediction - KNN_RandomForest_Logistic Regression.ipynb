{
 "cells": [
  {
   "cell_type": "markdown",
   "metadata": {},
   "source": [
    "# Project 2: Classification - MSDS 7331\n",
    "## Southern Methodist University \n",
    "# Glenn, Tweardy, Severance"
   ]
  },
  {
   "cell_type": "markdown",
   "metadata": {},
   "source": [
    "## Business Understanding\n",
    "\n",
    "The dataset for analysis originates from the UCI Machine Learning Repository. It contains data from the 1994 Census database and was originally extracted by Barry Becker. These data contain 48,842 observations and 14 attributes seperated in two distinct datsets, training and testing. Becker extracted the census data based on meeting all of the following four conditions:\n",
    "        \n",
    "        1. AAGE > 16\n",
    "        2. AGI > 100\n",
    "        3. AFNLWGT > 1\n",
    "        4. HRSWK > 0\n",
    "\n",
    "As noted, these data are split by Becker into train-test datasets using MLC++ GenCVFiles (2/3, 1/3 random).\n",
    "\n",
    "48,842 instances, mix of continuous and discrete    (train=32,561, test=16,281)\n",
    "\n",
    "45,222 of instances with unknown values are removed (train=30,162, test=15,060)\n",
    "\n",
    "train = adult.data AND test = adult.test\n",
    "\n",
    "Ref: https://archive.ics.uci.edu/ml/machine-learning-databases/adult/adult.names\n",
    "\n",
    "The original task for gathering this dataset and what will be analyzed throughout this semester's project is to predict whether an individual earns more than $50,000 per year in annual salary.  The attribte salary_range designates the annual salary via a binary classification of: >50K or <=50K.\n",
    "\n",
    "We aim to use the classification prediction method of taking the collection of records (adult.data) as the training set, whereas salary_range is the class.  We will develop a model which aims to predict the class, salary_range, as a function of the other attributes.  Ultimately, our goal is take the test data, adult.test, and predict the class, salary_range, as accurately as possible.  Therefore, below we are preprocessing the training dataset, adult.data, containing the 32,561 instances.\n",
    "\n",
    "In conducting an analysis on this data, there are many reasons why an organization would benefit from it. One in particular could be from a marketing standpoint. Businesses invest a large portion of there expenditures toward their marketing department to make sure that they market their products toward the correct demographics. For example, marketing the latest and greatest BMW to a demographic of individuals that make less than $50k annually is probably not a smart business decision and would undoubtedly fail. The financial cost of this mistake could potentially cost a company millions of dollars. The benefit a company has to understanding their customer base can truly be a profitable advantage. The factors in this model could be used by an organization to manage their marketing activity by developing and advertising products to meet the needs of their specific customer base.\n",
    "\n",
    "If you were to market a BMW to a certain demographic by email, you do not mind if you have false positives. We want to email all people that our data say is a positive even if it may be wrong. We are ok sending it out to a false positive in order to get the email out to the correct demographic since this is a cheap way of advertising. This is considered high recall. \n",
    "\n",
    "Conversely, if you were to hold a car show and cover travel and lodging expenses as well as \"wine and dine\" the customer, you would not want to miss your target demographic and invite the wrong demographics. It is much more expensive to advertise to the wrong group. Therefore, we are okay with not sending the invite to people because we have them classified wrong. This would be considered high precision because everyone that is invited will have been classified correctly even if we miss some.\n",
    "\n",
    "We know this example might be considered an extreme, but we are focusing this project on the scenario of sending out an email advertising campaign.  As such we are focusing on high accuracy so that we get the highest guarantee that the customers we are targetting are in the class of making more than $50K.   \n",
    "\n",
    "We believe that a typical BMW customer has a higher level of education. For this reason, the second task that we have chosen to predict is education level based on the other variables. Again, with the email campaign we want a high accuracy in the demographics that receive the email. Therefore, we are looking for high accuracy in this task as well.\n",
    "\n",
    "In predicting both tasks, we will use K-Nearest Neighbors, Random Forest, and Logistic Regression.\n",
    "\n",
    "For the extra work, we have performed a grid search for the K-Nearest Neighbors and Random Forest models in both tasks.\n",
    "\n",
    "Additionally, for both tasks we used ten fold cross validation because we believe the data is not biased toward one class. Therefore, ten fold cross validation would sufficiently divide the data. "
   ]
  },
  {
   "cell_type": "markdown",
   "metadata": {},
   "source": [
    "## Project Data Import\n",
    "\n",
    "We first load our Project 1 dataset and prepare it for analysis. \n",
    "\n",
    "<b>The below describes the meaning and type of data for each attribute in the data file per UCI Machine Learning Repository:</b><br>\n",
    "https://archive.ics.uci.edu/ml/machine-learning-databases/adult/adult.names<br>\n",
    "\n",
    "<b>age:</b> <u>Ordinal.</u><br>\n",
    "<b>workclass:</b> <u>Categorical.</u> Private, Self-emp-not-inc, Self-emp-inc, Federal-gov, Local-gov, State-gov, Without-pay, Never-worked.<br>\n",
    "<b>fnlwgt:</b> <u>Continuous.</u><br>\n",
    "<b>education:</b> <u>Categorical.</u> Bachelors, Some-college, 11th, HS-grad, Prof-school, Assoc-acdm, Assoc-voc, 9th, 7th-8th, 12th, Masters, 1st-4th, 10th, Doctorate, 5th-6th, Preschool.<br>\n",
    "<b>education-num:</b> <u>Ordinal.</u><br>\n",
    "<b>marital-status:</b> <u>Categorical.</u> Married-civ-spouse, Divorced, Never-married, Separated, Widowed, Married-spouse-absent, Married-AF-spouse.<br>\n",
    "<b>occupation:</b> <u>Categorical.</u> Tech-support, Craft-repair, Other-service, Sales, Exec-managerial, Prof-specialty, Handlers-cleaners, Machine-op-inspct, Adm-clerical, Farming-fishing, Transport-moving, Priv-house-serv, Protective-serv, Armed-Forces.<br>\n",
    "<b>relationship:</b> <u>Categorical.</u> Wife, Own-child, Husband, Not-in-family, Other-relative, Unmarried.<br>\n",
    "<b>race:</b> <u>Categorical.</u> White, Asian-Pac-Islander, Amer-Indian-Eskimo, Other, Black.<br>\n",
    "<b>sex:</b> <u>Categorical.</u> Female, Male.<br>\n",
    "<b>capital-gain:</b> <u>Continuous.</u><br>\n",
    "<b>capital-loss:</b> <u>Continuous.</u><br>\n",
    "<b>hours-per-week:</b> <u>Ordinal.</u><br>\n",
    "<b>native-country:</b> <u>Categorical.</u> United-States, Cambodia, England, Puerto-Rico, Canada, Germany, Outlying-US(Guam-USVI-etc), India, Japan, Greece, South, China, Cuba, Iran, Honduras, Philippines, Italy, Poland, Jamaica, Vietnam, Mexico, Portugal, Ireland, France, Dominican-Republic, Laos, Ecuador, Taiwan, Haiti, Columbia, Hungary, Guatemala, Nicaragua, Scotland, Thailand, Yugoslavia, El-Salvador, Trinadad&Tobago, Peru, Hong, Holand-Netherlands.<br>\n",
    "<b>salary_category:</b> <u>Categorical.</u> >50K, <=50K.<br>\n"
   ]
  },
  {
   "cell_type": "code",
   "execution_count": 1,
   "metadata": {
    "collapsed": false
   },
   "outputs": [],
   "source": [
    "import pandas as pd\n",
    "import numpy as np\n",
    "\n",
    "# reference: http://pandas.pydata.org/pandas-docs/stable/generated/pandas.read_csv.html\n",
    "# Load data and assign attribute field names\n",
    "df = pd.read_csv('data/adult.data', \n",
    "names = [\"age\", \"workclass\", \"fnlwgt\", \"education\", \"education_num\",\"marital_status\",\"occupation\",\n",
    "         \"relationship\",\"race\",\"sex\",\"capital_gain\",\"capital_loss\",\"hours_per_week\",\"native_country\",\n",
    "         \"salary_category\"])"
   ]
  },
  {
   "cell_type": "markdown",
   "metadata": {},
   "source": [
    "<b>The below block code is our transformation and removal of missing data.</b>"
   ]
  },
  {
   "cell_type": "code",
   "execution_count": 2,
   "metadata": {
    "collapsed": false
   },
   "outputs": [],
   "source": [
    "# Reference: https://github.com/eclarson/DataMiningNotebooks/blob/master/01.%20Pandas.ipynb\n",
    "\n",
    "# Changing the numeric values to be floats\n",
    "continuous_features = ['fnlwgt', 'capital_gain', 'capital_loss']\n",
    "\n",
    "# Changing oridnal values to be integers\n",
    "ordinal_features = ['age','education_num','hours_per_week']\n",
    "\n",
    "# We won't touch these variables, keep them as categorical\n",
    "categ_features = ['workclass','education','marital_status','occupation',\n",
    "                  'relationship','race','sex','native_country','salary_category'];\n",
    "\n",
    "# Using the \"astype\" function to change the variable type\n",
    "df[continuous_features] = df[continuous_features].astype(np.float64)\n",
    "df[ordinal_features] = df[ordinal_features].astype(np.int64)\n",
    "\n",
    "# Replacing missing values which are represented as question marks in data with NaN \n",
    "df = df.replace(to_replace=' ?', value=np.nan)\n",
    "\n",
    "# http://stackoverflow.com/questions/13413590/how-to-drop-rows-of-pandas-dataframe-whose-value-of-certain-column-is-nan\n",
    "# Drop all records with any values of NaN (missing values)\n",
    "df.dropna(inplace=True)"
   ]
  },
  {
   "cell_type": "code",
   "execution_count": 3,
   "metadata": {
    "collapsed": false
   },
   "outputs": [
    {
     "name": "stdout",
     "output_type": "stream",
     "text": [
      "<class 'pandas.core.frame.DataFrame'>\n",
      "Int64Index: 30162 entries, 0 to 32560\n",
      "Data columns (total 15 columns):\n",
      "age                30162 non-null int64\n",
      "workclass          30162 non-null object\n",
      "fnlwgt             30162 non-null float64\n",
      "education          30162 non-null object\n",
      "education_num      30162 non-null int64\n",
      "marital_status     30162 non-null object\n",
      "occupation         30162 non-null object\n",
      "relationship       30162 non-null object\n",
      "race               30162 non-null object\n",
      "sex                30162 non-null object\n",
      "capital_gain       30162 non-null float64\n",
      "capital_loss       30162 non-null float64\n",
      "hours_per_week     30162 non-null int64\n",
      "native_country     30162 non-null object\n",
      "salary_category    30162 non-null object\n",
      "dtypes: float64(3), int64(3), object(9)\n",
      "memory usage: 3.7+ MB\n"
     ]
    }
   ],
   "source": [
    "# View the summary of the variables to ensure salary_cat_binary type is Int64 and view objects for subsequent block of code.\n",
    "df.info()"
   ]
  },
  {
   "cell_type": "markdown",
   "metadata": {},
   "source": [
    "Below we look further at each of the categorical objects."
   ]
  },
  {
   "cell_type": "code",
   "execution_count": 4,
   "metadata": {
    "collapsed": false
   },
   "outputs": [
    {
     "data": {
      "text/html": [
       "<div>\n",
       "<table border=\"1\" class=\"dataframe\">\n",
       "  <thead>\n",
       "    <tr style=\"text-align: right;\">\n",
       "      <th></th>\n",
       "      <th>count</th>\n",
       "      <th>unique</th>\n",
       "      <th>top</th>\n",
       "      <th>freq</th>\n",
       "    </tr>\n",
       "  </thead>\n",
       "  <tbody>\n",
       "    <tr>\n",
       "      <th>workclass</th>\n",
       "      <td>30162</td>\n",
       "      <td>7</td>\n",
       "      <td>Private</td>\n",
       "      <td>22286</td>\n",
       "    </tr>\n",
       "    <tr>\n",
       "      <th>education</th>\n",
       "      <td>30162</td>\n",
       "      <td>16</td>\n",
       "      <td>HS-grad</td>\n",
       "      <td>9840</td>\n",
       "    </tr>\n",
       "    <tr>\n",
       "      <th>marital_status</th>\n",
       "      <td>30162</td>\n",
       "      <td>7</td>\n",
       "      <td>Married-civ-spouse</td>\n",
       "      <td>14065</td>\n",
       "    </tr>\n",
       "    <tr>\n",
       "      <th>occupation</th>\n",
       "      <td>30162</td>\n",
       "      <td>14</td>\n",
       "      <td>Prof-specialty</td>\n",
       "      <td>4038</td>\n",
       "    </tr>\n",
       "    <tr>\n",
       "      <th>relationship</th>\n",
       "      <td>30162</td>\n",
       "      <td>6</td>\n",
       "      <td>Husband</td>\n",
       "      <td>12463</td>\n",
       "    </tr>\n",
       "    <tr>\n",
       "      <th>race</th>\n",
       "      <td>30162</td>\n",
       "      <td>5</td>\n",
       "      <td>White</td>\n",
       "      <td>25933</td>\n",
       "    </tr>\n",
       "    <tr>\n",
       "      <th>sex</th>\n",
       "      <td>30162</td>\n",
       "      <td>2</td>\n",
       "      <td>Male</td>\n",
       "      <td>20380</td>\n",
       "    </tr>\n",
       "    <tr>\n",
       "      <th>native_country</th>\n",
       "      <td>30162</td>\n",
       "      <td>41</td>\n",
       "      <td>United-States</td>\n",
       "      <td>27504</td>\n",
       "    </tr>\n",
       "    <tr>\n",
       "      <th>salary_category</th>\n",
       "      <td>30162</td>\n",
       "      <td>2</td>\n",
       "      <td>&lt;=50K</td>\n",
       "      <td>22654</td>\n",
       "    </tr>\n",
       "  </tbody>\n",
       "</table>\n",
       "</div>"
      ],
      "text/plain": [
       "                 count unique                  top   freq\n",
       "workclass        30162      7              Private  22286\n",
       "education        30162     16              HS-grad   9840\n",
       "marital_status   30162      7   Married-civ-spouse  14065\n",
       "occupation       30162     14       Prof-specialty   4038\n",
       "relationship     30162      6              Husband  12463\n",
       "race             30162      5                White  25933\n",
       "sex              30162      2                 Male  20380\n",
       "native_country   30162     41        United-States  27504\n",
       "salary_category  30162      2                <=50K  22654"
      ]
     },
     "execution_count": 4,
     "metadata": {},
     "output_type": "execute_result"
    }
   ],
   "source": [
    "# Reference: https://github.com/eclarson/DataMiningNotebooks/blob/master/04.%20Logits and SVM.ipynb\n",
    "# View categorical variables which need to onehotencoding.\n",
    "\n",
    "df[['workclass', 'education', 'marital_status', 'occupation', 'relationship', 'race', 'sex', 'native_country', 'salary_category']].describe().transpose()"
   ]
  },
  {
   "cell_type": "markdown",
   "metadata": {},
   "source": [
    "A look at our 9 categorical variables reveals:\n",
    "* Workclass has 7 unique values, the most frequently occurring value is 'Private' - 74% of all occurances (22,286/30,162)\n",
    "* Education has 16 unique values, the most frequently occurring value is 'HS-Grad' - 33% of all occurances (9,840/30,162)\n",
    "* Marrital Status has 7 unique values, the most frequently occurring value is 'Married-Civ-Spouse' - 47% of all occurances (14,065/30,162) \n",
    "* Occupation has 14 unique values, the most frequently occurring value is 'Prof-speciality' - 13% of all occurances (4,038/30,162)\n",
    "* Relationship has 6 unique values, the most frequently occurring value is 'Husband' - 41% of all occurances (12,463/30,162)\n",
    "* Race has 5 unique values, the most frequently occurring value is 'White' - 86% of all occurances (25,933/30,162)\n",
    "* Sex has 2 unique values, the most frequently occurring value is 'Male' - 68% of all occurances (20,380/30,162)\n",
    "* Native Country has 41 unique values, the most frequently occurring value is 'United States' - 91% of all occurances (27,504/30,162)\n",
    "* Salary Category has 2 unique values, the most frequently occurring value is '<=50K' - 75% of all occurances (22,654/30,162)\n",
    "\n",
    "<b>Begin one-hot encoding of the categorical variables</b>"
   ]
  },
  {
   "cell_type": "code",
   "execution_count": 5,
   "metadata": {
    "collapsed": false
   },
   "outputs": [],
   "source": [
    "# Perform one-hot encoding of the categorical data \n",
    "tmp_df = pd.get_dummies(df.workclass,prefix='workclass')\n",
    "df = pd.concat((df,tmp_df),axis=1) # add back into the dataframe\n",
    "del df['workclass']\n",
    "\n",
    "tmp_df = pd.get_dummies(df.marital_status,prefix='marital_status')\n",
    "df = pd.concat((df,tmp_df),axis=1) # add back into the dataframe\n",
    "del df['marital_status']\n",
    "\n",
    "tmp_df = pd.get_dummies(df.occupation,prefix='occupation')\n",
    "df = pd.concat((df,tmp_df),axis=1) # add back into the dataframe\n",
    "del df['occupation']\n",
    "\n",
    "tmp_df = pd.get_dummies(df.relationship,prefix='relationship')\n",
    "df = pd.concat((df,tmp_df),axis=1) # add back into the dataframe\n",
    "del df['relationship']\n",
    "\n",
    "tmp_df = pd.get_dummies(df.race,prefix='race')\n",
    "df = pd.concat((df,tmp_df),axis=1) # add back into the dataframe\n",
    "del df['race']\n",
    "\n",
    "tmp_df = pd.get_dummies(df.native_country,prefix='native_country')\n",
    "df = pd.concat((df,tmp_df),axis=1) # add back into the dataframe\n",
    "del df['native_country']\n",
    "\n",
    "# Replace the current Sex atribute with something slightly more intuitive and readable\n",
    "df['IsMale'] = df.sex=='Male' \n",
    "df.IsMale = df.IsMale.astype(np.int)\n",
    "del df['sex']\n",
    "\n",
    "# Replace the current Salary_Category atribute with something slightly more intuitive and readable\n",
    "df['salary_cat_binary'] = df.salary_category==' >50K' \n",
    "df.salary_cat_binary = df.salary_cat_binary.astype(np.int)\n",
    "del df['salary_category']\n"
   ]
  },
  {
   "cell_type": "code",
   "execution_count": 6,
   "metadata": {
    "collapsed": true
   },
   "outputs": [],
   "source": [
    "# For part b of the project, we will be doing another analysis.\n",
    "# We want to save the data at this point in preparation of part b, we will return to this later\n",
    "partBDf = df\n",
    "\n",
    "tmp_df = pd.get_dummies(df.education,prefix='education')\n",
    "df = pd.concat((df,tmp_df),axis=1) # add back into the dataframe\n",
    "del df['education']"
   ]
  },
  {
   "cell_type": "code",
   "execution_count": 7,
   "metadata": {
    "collapsed": false,
    "scrolled": true
   },
   "outputs": [
    {
     "name": "stdout",
     "output_type": "stream",
     "text": [
      "<class 'pandas.core.frame.DataFrame'>\n",
      "Int64Index: 30162 entries, 0 to 32560\n",
      "Columns: 104 entries, age to education_ Some-college\n",
      "dtypes: float64(99), int32(2), int64(3)\n",
      "memory usage: 23.9 MB\n"
     ]
    },
    {
     "data": {
      "text/html": [
       "<div>\n",
       "<table border=\"1\" class=\"dataframe\">\n",
       "  <thead>\n",
       "    <tr style=\"text-align: right;\">\n",
       "      <th></th>\n",
       "      <th>age</th>\n",
       "      <th>fnlwgt</th>\n",
       "      <th>education_num</th>\n",
       "      <th>capital_gain</th>\n",
       "      <th>capital_loss</th>\n",
       "      <th>hours_per_week</th>\n",
       "      <th>workclass_ Federal-gov</th>\n",
       "      <th>workclass_ Local-gov</th>\n",
       "      <th>workclass_ Private</th>\n",
       "      <th>workclass_ Self-emp-inc</th>\n",
       "      <th>...</th>\n",
       "      <th>education_ 9th</th>\n",
       "      <th>education_ Assoc-acdm</th>\n",
       "      <th>education_ Assoc-voc</th>\n",
       "      <th>education_ Bachelors</th>\n",
       "      <th>education_ Doctorate</th>\n",
       "      <th>education_ HS-grad</th>\n",
       "      <th>education_ Masters</th>\n",
       "      <th>education_ Preschool</th>\n",
       "      <th>education_ Prof-school</th>\n",
       "      <th>education_ Some-college</th>\n",
       "    </tr>\n",
       "  </thead>\n",
       "  <tbody>\n",
       "    <tr>\n",
       "      <th>0</th>\n",
       "      <td>39</td>\n",
       "      <td>77516.0</td>\n",
       "      <td>13</td>\n",
       "      <td>2174.0</td>\n",
       "      <td>0.0</td>\n",
       "      <td>40</td>\n",
       "      <td>0.0</td>\n",
       "      <td>0.0</td>\n",
       "      <td>0.0</td>\n",
       "      <td>0.0</td>\n",
       "      <td>...</td>\n",
       "      <td>0.0</td>\n",
       "      <td>0.0</td>\n",
       "      <td>0.0</td>\n",
       "      <td>1.0</td>\n",
       "      <td>0.0</td>\n",
       "      <td>0.0</td>\n",
       "      <td>0.0</td>\n",
       "      <td>0.0</td>\n",
       "      <td>0.0</td>\n",
       "      <td>0.0</td>\n",
       "    </tr>\n",
       "    <tr>\n",
       "      <th>1</th>\n",
       "      <td>50</td>\n",
       "      <td>83311.0</td>\n",
       "      <td>13</td>\n",
       "      <td>0.0</td>\n",
       "      <td>0.0</td>\n",
       "      <td>13</td>\n",
       "      <td>0.0</td>\n",
       "      <td>0.0</td>\n",
       "      <td>0.0</td>\n",
       "      <td>0.0</td>\n",
       "      <td>...</td>\n",
       "      <td>0.0</td>\n",
       "      <td>0.0</td>\n",
       "      <td>0.0</td>\n",
       "      <td>1.0</td>\n",
       "      <td>0.0</td>\n",
       "      <td>0.0</td>\n",
       "      <td>0.0</td>\n",
       "      <td>0.0</td>\n",
       "      <td>0.0</td>\n",
       "      <td>0.0</td>\n",
       "    </tr>\n",
       "    <tr>\n",
       "      <th>2</th>\n",
       "      <td>38</td>\n",
       "      <td>215646.0</td>\n",
       "      <td>9</td>\n",
       "      <td>0.0</td>\n",
       "      <td>0.0</td>\n",
       "      <td>40</td>\n",
       "      <td>0.0</td>\n",
       "      <td>0.0</td>\n",
       "      <td>1.0</td>\n",
       "      <td>0.0</td>\n",
       "      <td>...</td>\n",
       "      <td>0.0</td>\n",
       "      <td>0.0</td>\n",
       "      <td>0.0</td>\n",
       "      <td>0.0</td>\n",
       "      <td>0.0</td>\n",
       "      <td>1.0</td>\n",
       "      <td>0.0</td>\n",
       "      <td>0.0</td>\n",
       "      <td>0.0</td>\n",
       "      <td>0.0</td>\n",
       "    </tr>\n",
       "    <tr>\n",
       "      <th>3</th>\n",
       "      <td>53</td>\n",
       "      <td>234721.0</td>\n",
       "      <td>7</td>\n",
       "      <td>0.0</td>\n",
       "      <td>0.0</td>\n",
       "      <td>40</td>\n",
       "      <td>0.0</td>\n",
       "      <td>0.0</td>\n",
       "      <td>1.0</td>\n",
       "      <td>0.0</td>\n",
       "      <td>...</td>\n",
       "      <td>0.0</td>\n",
       "      <td>0.0</td>\n",
       "      <td>0.0</td>\n",
       "      <td>0.0</td>\n",
       "      <td>0.0</td>\n",
       "      <td>0.0</td>\n",
       "      <td>0.0</td>\n",
       "      <td>0.0</td>\n",
       "      <td>0.0</td>\n",
       "      <td>0.0</td>\n",
       "    </tr>\n",
       "    <tr>\n",
       "      <th>4</th>\n",
       "      <td>28</td>\n",
       "      <td>338409.0</td>\n",
       "      <td>13</td>\n",
       "      <td>0.0</td>\n",
       "      <td>0.0</td>\n",
       "      <td>40</td>\n",
       "      <td>0.0</td>\n",
       "      <td>0.0</td>\n",
       "      <td>1.0</td>\n",
       "      <td>0.0</td>\n",
       "      <td>...</td>\n",
       "      <td>0.0</td>\n",
       "      <td>0.0</td>\n",
       "      <td>0.0</td>\n",
       "      <td>1.0</td>\n",
       "      <td>0.0</td>\n",
       "      <td>0.0</td>\n",
       "      <td>0.0</td>\n",
       "      <td>0.0</td>\n",
       "      <td>0.0</td>\n",
       "      <td>0.0</td>\n",
       "    </tr>\n",
       "  </tbody>\n",
       "</table>\n",
       "<p>5 rows × 104 columns</p>\n",
       "</div>"
      ],
      "text/plain": [
       "   age    fnlwgt  education_num  capital_gain  capital_loss  hours_per_week  \\\n",
       "0   39   77516.0             13        2174.0           0.0              40   \n",
       "1   50   83311.0             13           0.0           0.0              13   \n",
       "2   38  215646.0              9           0.0           0.0              40   \n",
       "3   53  234721.0              7           0.0           0.0              40   \n",
       "4   28  338409.0             13           0.0           0.0              40   \n",
       "\n",
       "   workclass_ Federal-gov  workclass_ Local-gov  workclass_ Private  \\\n",
       "0                     0.0                   0.0                 0.0   \n",
       "1                     0.0                   0.0                 0.0   \n",
       "2                     0.0                   0.0                 1.0   \n",
       "3                     0.0                   0.0                 1.0   \n",
       "4                     0.0                   0.0                 1.0   \n",
       "\n",
       "   workclass_ Self-emp-inc           ...             education_ 9th  \\\n",
       "0                      0.0           ...                        0.0   \n",
       "1                      0.0           ...                        0.0   \n",
       "2                      0.0           ...                        0.0   \n",
       "3                      0.0           ...                        0.0   \n",
       "4                      0.0           ...                        0.0   \n",
       "\n",
       "   education_ Assoc-acdm  education_ Assoc-voc  education_ Bachelors  \\\n",
       "0                    0.0                   0.0                   1.0   \n",
       "1                    0.0                   0.0                   1.0   \n",
       "2                    0.0                   0.0                   0.0   \n",
       "3                    0.0                   0.0                   0.0   \n",
       "4                    0.0                   0.0                   1.0   \n",
       "\n",
       "   education_ Doctorate  education_ HS-grad  education_ Masters  \\\n",
       "0                   0.0                 0.0                 0.0   \n",
       "1                   0.0                 0.0                 0.0   \n",
       "2                   0.0                 1.0                 0.0   \n",
       "3                   0.0                 0.0                 0.0   \n",
       "4                   0.0                 0.0                 0.0   \n",
       "\n",
       "   education_ Preschool  education_ Prof-school  education_ Some-college  \n",
       "0                   0.0                     0.0                      0.0  \n",
       "1                   0.0                     0.0                      0.0  \n",
       "2                   0.0                     0.0                      0.0  \n",
       "3                   0.0                     0.0                      0.0  \n",
       "4                   0.0                     0.0                      0.0  \n",
       "\n",
       "[5 rows x 104 columns]"
      ]
     },
     "execution_count": 7,
     "metadata": {},
     "output_type": "execute_result"
    }
   ],
   "source": [
    "# Review the data to ensure onehotencoding was successful.\n",
    "df.info()\n",
    "df.head()"
   ]
  },
  {
   "cell_type": "markdown",
   "metadata": {},
   "source": [
    "We now pull out the underlying data from the Pandas dataframe and store into numpy matrices.<br>\n",
    "For this part, we decided to do a 10 fold cross validation.\n",
    "We are using the \"salary_cat_bin\" as our Y, and the remaining fields as our X.\n"
   ]
  },
  {
   "cell_type": "code",
   "execution_count": 8,
   "metadata": {
    "collapsed": false
   },
   "outputs": [
    {
     "name": "stdout",
     "output_type": "stream",
     "text": [
      "sklearn.cross_validation.KFold(n=30162, n_folds=10, shuffle=False, random_state=None)\n"
     ]
    }
   ],
   "source": [
    "# For this project, we are going to do a 10 fold split\n",
    "if 'salary_cat_binary' in df:\n",
    "    y = df['salary_cat_binary'].values # get the labels we want\n",
    "    del df['salary_cat_binary']\n",
    "X = df.values\n",
    "from sklearn.cross_validation import KFold \n",
    "cv_object = KFold(n=len(X), n_folds=10)\n",
    "print(cv_object)"
   ]
  },
  {
   "cell_type": "markdown",
   "metadata": {},
   "source": [
    "Now that we have our data split into 10 folds.  We will create a couple of different models to compare. "
   ]
  },
  {
   "cell_type": "markdown",
   "metadata": {},
   "source": [
    "## K-Nearest Neighbors"
   ]
  },
  {
   "cell_type": "code",
   "execution_count": 9,
   "metadata": {
    "collapsed": false
   },
   "outputs": [
    {
     "name": "stdout",
     "output_type": "stream",
     "text": [
      "KNN accuracy 0.751077514754\n",
      "[1, 2, 3, 4, 5, 6, 7, 8, 9, 10]\n",
      "{'n_neighbors': [1, 2, 3, 4, 5, 6, 7, 8, 9, 10]}\n"
     ]
    },
    {
     "data": {
      "text/plain": [
       "GridSearchCV(cv=10, error_score='raise',\n",
       "       estimator=KNeighborsClassifier(algorithm='auto', leaf_size=30, metric='minkowski',\n",
       "           metric_params=None, n_jobs=1, n_neighbors=3, p=2,\n",
       "           weights='uniform'),\n",
       "       fit_params={}, iid=True, n_jobs=1,\n",
       "       param_grid={'n_neighbors': [1, 2, 3, 4, 5, 6, 7, 8, 9, 10]},\n",
       "       pre_dispatch='2*n_jobs', refit=True, scoring='accuracy', verbose=0)"
      ]
     },
     "execution_count": 9,
     "metadata": {},
     "output_type": "execute_result"
    }
   ],
   "source": [
    "from sklearn.neighbors import KNeighborsClassifier\n",
    "from sklearn.cross_validation import StratifiedKFold, cross_val_score\n",
    "import numpy as np\n",
    "from sklearn import metrics as mt\n",
    "from sklearn.grid_search import GridSearchCV\n",
    "\n",
    "# Create variables we are more familiar with\n",
    "yhat = np.zeros(y.shape) # we will fill this with predictions\n",
    "\n",
    "# Create cross validation iterator\n",
    "cv = StratifiedKFold(y, n_folds=10)\n",
    "\n",
    "# Get a handle to the classifier object, which defines the type\n",
    "knn_clf = KNeighborsClassifier(n_neighbors=3)\n",
    "\n",
    "\n",
    "total_accuracy = mt.accuracy_score(y, yhat)\n",
    "print 'KNN accuracy', total_accuracy\n",
    "\n",
    "# Source: https://youtu.be/Gol_qOgRqfA\n",
    "\n",
    "# Define parameter values to be searched\n",
    "k_range = range(1, 11)\n",
    "print(k_range)\n",
    "\n",
    "# Create parameter grid: map parameter names to values that should be searched\n",
    "param_grid = dict(n_neighbors=k_range)\n",
    "print(param_grid)\n",
    "\n",
    "# Instantiate the grid\n",
    "gs = GridSearchCV(knn_clf, param_grid = param_grid, cv = 10, scoring = 'accuracy')\n",
    "\n",
    "# Fit grid with data\n",
    "gs.fit(X,y)"
   ]
  },
  {
   "cell_type": "code",
   "execution_count": 10,
   "metadata": {
    "collapsed": false
   },
   "outputs": [
    {
     "data": {
      "text/plain": [
       "[mean: 0.72857, std: 0.00529, params: {'n_neighbors': 1},\n",
       " mean: 0.77995, std: 0.00287, params: {'n_neighbors': 2},\n",
       " mean: 0.75287, std: 0.00409, params: {'n_neighbors': 3},\n",
       " mean: 0.78287, std: 0.00286, params: {'n_neighbors': 4},\n",
       " mean: 0.76858, std: 0.00225, params: {'n_neighbors': 5},\n",
       " mean: 0.78499, std: 0.00234, params: {'n_neighbors': 6},\n",
       " mean: 0.77511, std: 0.00321, params: {'n_neighbors': 7},\n",
       " mean: 0.78755, std: 0.00286, params: {'n_neighbors': 8},\n",
       " mean: 0.78257, std: 0.00237, params: {'n_neighbors': 9},\n",
       " mean: 0.78944, std: 0.00336, params: {'n_neighbors': 10}]"
      ]
     },
     "execution_count": 10,
     "metadata": {},
     "output_type": "execute_result"
    }
   ],
   "source": [
    "# View the complete results(list of named tuples)\n",
    "gs.grid_scores_"
   ]
  },
  {
   "cell_type": "code",
   "execution_count": 11,
   "metadata": {
    "collapsed": false
   },
   "outputs": [
    {
     "name": "stdout",
     "output_type": "stream",
     "text": [
      "[0.72856574497712356, 0.7799549101518467, 0.75286784695975073, 0.7828724885617665, 0.76858298521318213, 0.7849943637689808, 0.77511438233538887, 0.78754724487766059, 0.78257409986075199, 0.78943703998408599]\n"
     ]
    }
   ],
   "source": [
    "# Create a list of the mean scores only\n",
    "grid_mean_scores = [result.mean_validation_score for result in gs.grid_scores_]\n",
    "print(grid_mean_scores)"
   ]
  },
  {
   "cell_type": "code",
   "execution_count": 12,
   "metadata": {
    "collapsed": false
   },
   "outputs": [
    {
     "data": {
      "text/plain": [
       "<matplotlib.text.Text at 0xe92fbe0>"
      ]
     },
     "execution_count": 12,
     "metadata": {},
     "output_type": "execute_result"
    },
    {
     "data": {
      "image/png": "[encoded data removed]",
      "text/plain": [
       "<matplotlib.figure.Figure at 0x8d6da90>"
      ]
     },
     "metadata": {},
     "output_type": "display_data"
    }
   ],
   "source": [
    "from matplotlib import pyplot as plt\n",
    "%matplotlib inline\n",
    "plt.style.use('ggplot')\n",
    "\n",
    "# Plot the results\n",
    "plt.plot(k_range, grid_mean_scores)\n",
    "plt.xlabel('Value of K for KNN')\n",
    "plt.ylabel('Cross-Validation Accuracy')"
   ]
  },
  {
   "cell_type": "code",
   "execution_count": 13,
   "metadata": {
    "collapsed": false
   },
   "outputs": [
    {
     "name": "stdout",
     "output_type": "stream",
     "text": [
      "{'n_neighbors': 10}\n",
      "[ 0.78952602  0.79085184  0.79118329  0.78786874  0.78912467  0.79011936\n",
      "  0.78348806  0.79144562  0.78474295  0.7960199 ]\n",
      "0.789437039984\n"
     ]
    }
   ],
   "source": [
    "# Examine the tenth tuple, the optimal model parameters and save scores for statistical test\n",
    "print gs.grid_scores_[9].parameters\n",
    "print gs.grid_scores_[9].cv_validation_scores\n",
    "print gs.grid_scores_[9].mean_validation_score\n",
    "knn_1 = gs.grid_scores_[9].cv_validation_scores"
   ]
  },
  {
   "cell_type": "code",
   "execution_count": 14,
   "metadata": {
    "collapsed": false
   },
   "outputs": [
    {
     "name": "stdout",
     "output_type": "stream",
     "text": [
      "0.789437039984\n",
      "{'n_neighbors': 10}\n",
      "KNeighborsClassifier(algorithm='auto', leaf_size=30, metric='minkowski',\n",
      "           metric_params=None, n_jobs=1, n_neighbors=10, p=2,\n",
      "           weights='uniform')\n"
     ]
    }
   ],
   "source": [
    "# Examine the best model\n",
    "print gs.best_score_\n",
    "print gs.best_params_\n",
    "print gs.best_estimator_"
   ]
  },
  {
   "cell_type": "code",
   "execution_count": 15,
   "metadata": {
    "collapsed": false
   },
   "outputs": [
    {
     "name": "stdout",
     "output_type": "stream",
     "text": [
      "KNN accuracy 0.789437039984\n"
     ]
    }
   ],
   "source": [
    "yhat = np.zeros(y.shape) # we will fill this with predictions\n",
    "\n",
    "# Create cross validation iterator\n",
    "cv = StratifiedKFold(y, n_folds=10)\n",
    "\n",
    "# Get a handle to the classifier object, which defines the type\n",
    "knn_clf = KNeighborsClassifier(n_neighbors=10)\n",
    "\n",
    "# Now iterate through and get predictions, saved to the correct row in yhat\n",
    "for train, test in cv:\n",
    "    knn_clf.fit(X[train],y[train])\n",
    "    yhat[test] = knn_clf.predict(X[test])\n",
    "\n",
    "total_accuracy = mt.accuracy_score(y, yhat)\n",
    "print 'KNN accuracy', total_accuracy"
   ]
  },
  {
   "cell_type": "markdown",
   "metadata": {},
   "source": [
    "From the grid search, the most optimal model shows that with a value of k = 10 we can expect a 79% accuracy in predicting whether an individual will make more or less than $50K annually."
   ]
  },
  {
   "cell_type": "markdown",
   "metadata": {},
   "source": [
    "## Random Forest"
   ]
  },
  {
   "cell_type": "code",
   "execution_count": 16,
   "metadata": {
    "collapsed": false
   },
   "outputs": [
    {
     "name": "stdout",
     "output_type": "stream",
     "text": [
      "Random Forest Accuracy 0.849512631788\n"
     ]
    }
   ],
   "source": [
    "from sklearn.ensemble import RandomForestClassifier\n",
    "\n",
    "rf_clf = RandomForestClassifier(max_depth=50, n_estimators=150, n_jobs=-1, oob_score=True)\n",
    "\n",
    "# Now iterate through and get predictions, saved to the correct row in yhat\n",
    "for train, test in cv:\n",
    "    rf_clf.fit(X[train],y[train])\n",
    "    yhat[test] = rf_clf.predict(X[test])\n",
    "    \n",
    "total_accuracy = mt.accuracy_score(y, yhat)\n",
    "print 'Random Forest Accuracy', total_accuracy"
   ]
  },
  {
   "cell_type": "code",
   "execution_count": 17,
   "metadata": {
    "collapsed": true
   },
   "outputs": [],
   "source": [
    "# Define the parameter values that should be searched\n",
    "depth_range = range(1, 50)"
   ]
  },
  {
   "cell_type": "code",
   "execution_count": 18,
   "metadata": {
    "collapsed": false
   },
   "outputs": [
    {
     "name": "stdout",
     "output_type": "stream",
     "text": [
      "{'max_depth': [25, 50, 75, 100]}\n"
     ]
    }
   ],
   "source": [
    "# Create a parameter grid: map the parameter names to the values that should be searched\n",
    "param_grid = {\"max_depth\": [25, 50, 75, 100]}\n",
    "print param_grid"
   ]
  },
  {
   "cell_type": "code",
   "execution_count": 19,
   "metadata": {
    "collapsed": false
   },
   "outputs": [
    {
     "data": {
      "text/plain": [
       "GridSearchCV(cv=10, error_score='raise',\n",
       "       estimator=RandomForestClassifier(bootstrap=True, class_weight=None, criterion='gini',\n",
       "            max_depth=50, max_features='auto', max_leaf_nodes=None,\n",
       "            min_samples_leaf=1, min_samples_split=2,\n",
       "            min_weight_fraction_leaf=0.0, n_estimators=150, n_jobs=-1,\n",
       "            oob_score=True, random_state=None, verbose=0, warm_start=False),\n",
       "       fit_params={}, iid=True, n_jobs=1,\n",
       "       param_grid={'max_depth': [25, 50, 75, 100]},\n",
       "       pre_dispatch='2*n_jobs', refit=True, scoring='accuracy', verbose=0)"
      ]
     },
     "execution_count": 19,
     "metadata": {},
     "output_type": "execute_result"
    }
   ],
   "source": [
    "# Instantiate and fit the grid\n",
    "gs = GridSearchCV(rf_clf, param_grid, cv = 10, scoring = 'accuracy')\n",
    "gs.fit(X,y)"
   ]
  },
  {
   "cell_type": "code",
   "execution_count": 20,
   "metadata": {
    "collapsed": false
   },
   "outputs": [
    {
     "name": "stdout",
     "output_type": "stream",
     "text": [
      "[0.85780120681652405, 0.85120350109409193, 0.85027518069093566, 0.85097142099330281]\n"
     ]
    }
   ],
   "source": [
    "# Create a list of the mean scores only\n",
    "grid_mean_scores = [result.mean_validation_score for result in gs.grid_scores_]\n",
    "print(grid_mean_scores)"
   ]
  },
  {
   "cell_type": "code",
   "execution_count": 21,
   "metadata": {
    "collapsed": false
   },
   "outputs": [
    {
     "name": "stdout",
     "output_type": "stream",
     "text": [
      "0.857801206817\n",
      "{'max_depth': 25}\n"
     ]
    }
   ],
   "source": [
    "# Examine the best model\n",
    "print gs.best_score_\n",
    "print gs.best_params_"
   ]
  },
  {
   "cell_type": "markdown",
   "metadata": {},
   "source": [
    "Since the grid search yielded the lowest given parameter for the depth of the model, we decided to investigate further to see if we could use an even smaller max depth. We did this by changing the parameters below. "
   ]
  },
  {
   "cell_type": "code",
   "execution_count": 22,
   "metadata": {
    "collapsed": false
   },
   "outputs": [
    {
     "name": "stdout",
     "output_type": "stream",
     "text": [
      "{'max_depth': [5, 10, 15, 20, 25]}\n"
     ]
    }
   ],
   "source": [
    "# Create a parameter grid: map the parameter names to the values that should be searched\n",
    "param_grid = {\"max_depth\": [5, 10, 15, 20, 25]}\n",
    "print param_grid"
   ]
  },
  {
   "cell_type": "code",
   "execution_count": 23,
   "metadata": {
    "collapsed": false
   },
   "outputs": [
    {
     "data": {
      "text/plain": [
       "GridSearchCV(cv=10, error_score='raise',\n",
       "       estimator=RandomForestClassifier(bootstrap=True, class_weight=None, criterion='gini',\n",
       "            max_depth=50, max_features='auto', max_leaf_nodes=None,\n",
       "            min_samples_leaf=1, min_samples_split=2,\n",
       "            min_weight_fraction_leaf=0.0, n_estimators=150, n_jobs=-1,\n",
       "            oob_score=True, random_state=None, verbose=0, warm_start=False),\n",
       "       fit_params={}, iid=True, n_jobs=1,\n",
       "       param_grid={'max_depth': [5, 10, 15, 20, 25]},\n",
       "       pre_dispatch='2*n_jobs', refit=True, scoring='accuracy', verbose=0)"
      ]
     },
     "execution_count": 23,
     "metadata": {},
     "output_type": "execute_result"
    }
   ],
   "source": [
    "# Instantiate and fit the grid\n",
    "gs = GridSearchCV(rf_clf, param_grid, cv = 10, scoring = 'accuracy')\n",
    "gs.fit(X,y)"
   ]
  },
  {
   "cell_type": "code",
   "execution_count": 24,
   "metadata": {
    "collapsed": false
   },
   "outputs": [
    {
     "name": "stdout",
     "output_type": "stream",
     "text": [
      "[0.83568728864133679, 0.85435315960480074, 0.85670711491280416, 0.85988992772362571, 0.85853060141900406]\n"
     ]
    }
   ],
   "source": [
    "# Create a list of the mean scores only\n",
    "grid_mean_scores = [result.mean_validation_score for result in gs.grid_scores_]\n",
    "print(grid_mean_scores)"
   ]
  },
  {
   "cell_type": "code",
   "execution_count": 25,
   "metadata": {
    "collapsed": false
   },
   "outputs": [
    {
     "name": "stdout",
     "output_type": "stream",
     "text": [
      "0.859889927724\n",
      "{'max_depth': 20}\n"
     ]
    }
   ],
   "source": [
    "# Examine the best model\n",
    "print gs.best_score_\n",
    "print gs.best_params_"
   ]
  },
  {
   "cell_type": "code",
   "execution_count": 26,
   "metadata": {
    "collapsed": false
   },
   "outputs": [
    {
     "name": "stdout",
     "output_type": "stream",
     "text": [
      "{'max_depth': 20}\n",
      "[ 0.84852502  0.85913159  0.85946304  0.85150812  0.86306366  0.85908488\n",
      "  0.86372679  0.8693634   0.86733002  0.85771144]\n",
      "0.859889927724\n"
     ]
    }
   ],
   "source": [
    "# Examine the fourth tuple, the optimal model parameters and save scores for statistical test\n",
    "print gs.grid_scores_[3].parameters\n",
    "print gs.grid_scores_[3].cv_validation_scores\n",
    "print gs.grid_scores_[3].mean_validation_score\n",
    "rf_1 = gs.grid_scores_[3].cv_validation_scores"
   ]
  },
  {
   "cell_type": "code",
   "execution_count": 27,
   "metadata": {
    "collapsed": false
   },
   "outputs": [
    {
     "name": "stdout",
     "output_type": "stream",
     "text": [
      "Random Forest Accuracy 0.850341489291\n"
     ]
    }
   ],
   "source": [
    "# Using the best parameters to make prediction\n",
    "# Train model using all dtaa and the best known parameters\n",
    "rfc = RandomForestClassifier(max_depth=20, n_estimators=150, n_jobs=-1, oob_score=True)\n",
    "\n",
    "# Now iterate through and get predictions, saved to the correct row in yhat\n",
    "for train, test in cv:\n",
    "    rf_clf.fit(X[train],y[train])\n",
    "    yhat[test] = rf_clf.predict(X[test])\n",
    "\n",
    "total_accuracy = mt.accuracy_score(y, yhat)\n",
    "print 'Random Forest Accuracy', total_accuracy"
   ]
  },
  {
   "cell_type": "markdown",
   "metadata": {},
   "source": [
    "In this model, we can expect that our most optimal model would produce a max depth of 20 and give an 86% accuracy of properly classifying."
   ]
  },
  {
   "cell_type": "markdown",
   "metadata": {},
   "source": [
    "## Logistic Regression"
   ]
  },
  {
   "cell_type": "code",
   "execution_count": 28,
   "metadata": {
    "collapsed": false
   },
   "outputs": [
    {
     "name": "stdout",
     "output_type": "stream",
     "text": [
      "('====Iteration', 0, ' ====')\n",
      "('accuracy', 0.78123964202850515)\n",
      "('confusion matrix\\n', array([[2153,   83],\n",
      "       [ 577,  204]]))\n",
      "('====Iteration', 1, ' ====')\n",
      "('accuracy', 0.79615512098110708)\n",
      "('confusion matrix\\n', array([[2207,   82],\n",
      "       [ 533,  195]]))\n",
      "('====Iteration', 2, ' ====')\n",
      "('accuracy', 0.79774535809018565)\n",
      "('confusion matrix\\n', array([[2217,   92],\n",
      "       [ 518,  189]]))\n",
      "('====Iteration', 3, ' ====')\n",
      "('accuracy', 0.78481432360742709)\n",
      "('confusion matrix\\n', array([[2167,   89],\n",
      "       [ 560,  200]]))\n",
      "('====Iteration', 4, ' ====')\n",
      "('accuracy', 0.78547745358090182)\n",
      "('confusion matrix\\n', array([[2180,   84],\n",
      "       [ 563,  189]]))\n",
      "('====Iteration', 5, ' ====')\n",
      "('accuracy', 0.80603448275862066)\n",
      "('confusion matrix\\n', array([[2225,   62],\n",
      "       [ 523,  206]]))\n",
      "('====Iteration', 6, ' ====')\n",
      "('accuracy', 0.78647214854111402)\n",
      "('confusion matrix\\n', array([[2180,   89],\n",
      "       [ 555,  192]]))\n",
      "('====Iteration', 7, ' ====')\n",
      "('accuracy', 0.79011936339522548)\n",
      "('confusion matrix\\n', array([[2175,   69],\n",
      "       [ 564,  208]]))\n",
      "('====Iteration', 8, ' ====')\n",
      "('accuracy', 0.78614058355437666)\n",
      "('confusion matrix\\n', array([[2173,   80],\n",
      "       [ 565,  198]]))\n",
      "('====Iteration', 9, ' ====')\n",
      "('accuracy', 0.79078249336870021)\n",
      "('confusion matrix\\n', array([[2170,   77],\n",
      "       [ 554,  215]]))\n"
     ]
    }
   ],
   "source": [
    "# Reference: https://github.com/eclarson/DataMiningNotebooks/blob/master/04.%20Logits and SVM.ipynb\n",
    "# Run logistic regression and vary some parameters\n",
    "from sklearn.linear_model import LogisticRegression\n",
    "from sklearn.cross_validation import cross_val_score\n",
    "from sklearn import metrics as mt\n",
    "\n",
    "# First we create a reusable logisitic regression object\n",
    "# Here we can setup the object with different learning parameters and constants\n",
    "lr_clf = LogisticRegression(penalty='l2', C=1.0, class_weight=None) # get object\n",
    "\n",
    "# Now we can use the cv_object that we setup before to iterate through the \n",
    "#    different training and testing sets. Each time we will reuse the logisitic regression \n",
    "#    object, but it gets trained on different data each time we use it.\n",
    "\n",
    "iter_num=0\n",
    "# The indices are the rows used for training and testing in each iteration\n",
    "for train_indices, test_indices in cv_object: \n",
    "    # I will create new variables here so that it is more obvious what \n",
    "    # the code is doing (you can compact this syntax and avoid duplicating memory,\n",
    "    # but it makes this code less readable)\n",
    "    X_train = X[train_indices]\n",
    "    y_train = y[train_indices]\n",
    "    \n",
    "    X_test = X[test_indices]\n",
    "    y_test = y[test_indices]\n",
    "    \n",
    "    # Train the reusable logisitc regression model on the training data\n",
    "    lr_clf.fit(X_train,y_train)  # train object\n",
    "    y_hat = lr_clf.predict(X_test) # get test set precitions\n",
    "\n",
    "    acc = mt.accuracy_score(y_test,y_hat)\n",
    "    conf = mt.confusion_matrix(y_test,y_hat)\n",
    "    print(\"====Iteration\",iter_num,\" ====\")\n",
    "    print(\"accuracy\", acc )\n",
    "    print(\"confusion matrix\\n\",conf)\n",
    "    iter_num+=1"
   ]
  },
  {
   "cell_type": "code",
   "execution_count": 29,
   "metadata": {
    "collapsed": false,
    "scrolled": true
   },
   "outputs": [
    {
     "name": "stdout",
     "output_type": "stream",
     "text": [
      "[ 0.78256546  0.79615512  0.79741379  0.78481432  0.78547745  0.80271883\n",
      "  0.78680371  0.79011936  0.78680371  0.79210875]\n"
     ]
    },
    {
     "data": {
      "text/plain": [
       "<function __main__.lr_explor>"
      ]
     },
     "execution_count": 29,
     "metadata": {},
     "output_type": "execute_result"
    }
   ],
   "source": [
    "# Here we can change some of the parameters interactively\n",
    "from ipywidgets import widgets as wd\n",
    "\n",
    "def lr_explor(cost):\n",
    "    lr_clf = LogisticRegression(penalty='l2', C=cost, class_weight=None) # get object\n",
    "    accuracies = cross_val_score(lr_clf,X,y=y,cv=cv_object) # this also can help with parallelism\n",
    "    print(accuracies)\n",
    "\n",
    "wd.interact(lr_explor,cost=(0.001,5.0,0.05))"
   ]
  },
  {
   "cell_type": "markdown",
   "metadata": {},
   "source": [
    "We used the above interactive explorer to evaluate different cost variables.<br>\n",
    "We discovered that we maintained approximately 80% accuracy for the full range of 0.001 to 5<br>\n",
    "Given we have no significant changes with varying cost, we will leave to 1.0"
   ]
  },
  {
   "cell_type": "markdown",
   "metadata": {},
   "source": [
    "<b>Interpretting Weights</b>"
   ]
  },
  {
   "cell_type": "code",
   "execution_count": 30,
   "metadata": {
    "collapsed": false
   },
   "outputs": [
    {
     "name": "stdout",
     "output_type": "stream",
     "text": [
      "('age', 'has weight of', -0.0033829598987452918)\n",
      "('fnlwgt', 'has weight of', -4.8578054646231636e-06)\n",
      "('education_num', 'has weight of', -0.00081817318777200015)\n",
      "('capital_gain', 'has weight of', 0.00032209767900921125)\n",
      "('capital_loss', 'has weight of', 0.00071824456958147881)\n",
      "('hours_per_week', 'has weight of', -0.0040907828628927306)\n",
      "('workclass_ Federal-gov', 'has weight of', 8.5380714057231586e-06)\n",
      "('workclass_ Local-gov', 'has weight of', -2.8957352724720393e-06)\n",
      "('workclass_ Private', 'has weight of', -0.0002051010818266334)\n",
      "('workclass_ Self-emp-inc', 'has weight of', 2.4127649731639494e-05)\n",
      "('workclass_ Self-emp-not-inc', 'has weight of', -1.187055877591543e-05)\n",
      "('workclass_ State-gov', 'has weight of', -4.5786063369810503e-06)\n",
      "('workclass_ Without-pay', 'has weight of', -5.3912327453589148e-07)\n",
      "('marital_status_ Divorced', 'has weight of', -9.9717907797308714e-05)\n",
      "('marital_status_ Married-AF-spouse', 'has weight of', 3.5659331922809132e-07)\n",
      "('marital_status_ Married-civ-spouse', 'has weight of', 0.00023660053453646384)\n",
      "('marital_status_ Married-spouse-absent', 'has weight of', -9.0002243981005246e-06)\n",
      "('marital_status_ Never-married', 'has weight of', -0.00027543734564434752)\n",
      "('marital_status_ Separated', 'has weight of', -2.3040958784968065e-05)\n",
      "('marital_status_ Widowed', 'has weight of', -2.2080075580141421e-05)\n",
      "('occupation_ Adm-clerical', 'has weight of', -6.9813823035238653e-05)\n",
      "('occupation_ Armed-Forces', 'has weight of', -1.2850475885964621e-07)\n",
      "('occupation_ Craft-repair', 'has weight of', -3.2294057727246336e-05)\n",
      "('occupation_ Exec-managerial', 'has weight of', 7.1244374410854653e-05)\n",
      "('occupation_ Farming-fishing', 'has weight of', -2.423369147310699e-05)\n",
      "('occupation_ Handlers-cleaners', 'has weight of', -3.3284809391475421e-05)\n",
      "('occupation_ Machine-op-inspct', 'has weight of', -3.6335647594025981e-05)\n",
      "('occupation_ Other-service', 'has weight of', -9.3699051788566842e-05)\n",
      "('occupation_ Priv-house-serv', 'has weight of', -4.6941453306824582e-06)\n",
      "('occupation_ Prof-specialty', 'has weight of', 5.4851651430284282e-05)\n",
      "('occupation_ Protective-serv', 'has weight of', 4.0098211750650297e-06)\n",
      "('occupation_ Sales', 'has weight of', -1.4496841967021844e-05)\n",
      "('occupation_ Tech-support', 'has weight of', 2.4448241960705311e-06)\n",
      "('occupation_ Transport-moving', 'has weight of', -1.588948249522455e-05)\n",
      "('relationship_ Husband', 'has weight of', 0.00020989851939388085)\n",
      "('relationship_ Not-in-family', 'has weight of', -0.00018026206937780354)\n",
      "('relationship_ Other-relative', 'has weight of', -2.5014563378977206e-05)\n",
      "('relationship_ Own-child', 'has weight of', -0.00014175076654704394)\n",
      "('relationship_ Unmarried', 'has weight of', -8.5481219409115785e-05)\n",
      "('relationship_ Wife', 'has weight of', 3.0290714969883942e-05)\n",
      "('race_ Amer-Indian-Eskimo', 'has weight of', -8.9050621547244641e-06)\n",
      "('race_ Asian-Pac-Islander', 'has weight of', -6.7829596974204806e-06)\n",
      "('race_ Black', 'has weight of', -4.1502249020243123e-05)\n",
      "('race_ Other', 'has weight of', -5.6279290222177844e-06)\n",
      "('race_ White', 'has weight of', -0.00012950118445456799)\n",
      "('native_country_ Cambodia', 'has weight of', 4.6756474161310679e-08)\n",
      "('native_country_ Canada', 'has weight of', 2.7415983847023284e-07)\n",
      "('native_country_ China', 'has weight of', -4.9497009518074917e-07)\n",
      "('native_country_ Columbia', 'has weight of', -1.4180455113860559e-06)\n",
      "('native_country_ Cuba', 'has weight of', 6.2614762525469952e-07)\n",
      "('native_country_ Dominican-Republic', 'has weight of', -1.8351691607122196e-06)\n",
      "('native_country_ Ecuador', 'has weight of', -6.2480185781769289e-07)\n",
      "('native_country_ El-Salvador', 'has weight of', -1.7821034643949436e-06)\n",
      "('native_country_ England', 'has weight of', 4.0847240893045283e-07)\n",
      "('native_country_ France', 'has weight of', 7.0155154832968013e-07)\n",
      "('native_country_ Germany', 'has weight of', 9.4728757087774957e-07)\n",
      "('native_country_ Greece', 'has weight of', -4.6579939952409289e-07)\n",
      "('native_country_ Guatemala', 'has weight of', -1.5496626306078814e-06)\n",
      "('native_country_ Haiti', 'has weight of', -8.4006893747002535e-07)\n",
      "('native_country_ Holand-Netherlands', 'has weight of', -1.1114511763289178e-07)\n",
      "('native_country_ Honduras', 'has weight of', -2.0232475631224411e-07)\n",
      "('native_country_ Hong', 'has weight of', 2.7211906822158095e-07)\n",
      "('native_country_ Hungary', 'has weight of', -1.2344477122826007e-07)\n",
      "('native_country_ India', 'has weight of', 5.1308238324740239e-07)\n",
      "('native_country_ Iran', 'has weight of', 4.5076312914650935e-07)\n",
      "('native_country_ Ireland', 'has weight of', -3.756526804871326e-07)\n",
      "('native_country_ Italy', 'has weight of', 7.9187443035210586e-07)\n",
      "('native_country_ Jamaica', 'has weight of', -8.7768938698108006e-07)\n",
      "('native_country_ Japan', 'has weight of', 3.5765921332788459e-07)\n",
      "('native_country_ Laos', 'has weight of', -1.8598635165525318e-07)\n",
      "('native_country_ Mexico', 'has weight of', -9.4842978053746456e-06)\n",
      "('native_country_ Nicaragua', 'has weight of', -4.9463176749069628e-07)\n",
      "('native_country_ Outlying-US(Guam-USVI-etc)', 'has weight of', -3.4751776216817115e-07)\n",
      "('native_country_ Peru', 'has weight of', -4.3773748284220446e-07)\n",
      "('native_country_ Philippines', 'has weight of', -5.3753468125875804e-07)\n",
      "('native_country_ Poland', 'has weight of', -4.2785143381353948e-07)\n",
      "('native_country_ Portugal', 'has weight of', -7.748323913134105e-07)\n",
      "('native_country_ Puerto-Rico', 'has weight of', -2.2010124108442959e-06)\n",
      "('native_country_ Scotland', 'has weight of', -2.2133388784014596e-07)\n",
      "('native_country_ South', 'has weight of', -1.1931013060786867e-06)\n",
      "('native_country_ Taiwan', 'has weight of', 1.0116659769348963e-06)\n",
      "('native_country_ Thailand', 'has weight of', -1.70875180477628e-07)\n",
      "('native_country_ Trinadad&Tobago', 'has weight of', -3.6555078288844748e-07)\n",
      "('native_country_ United-States', 'has weight of', -0.00016943655511557058)\n",
      "('native_country_ Vietnam', 'has weight of', -1.9522587827573395e-06)\n",
      "('native_country_ Yugoslavia', 'has weight of', 2.1103089568140714e-07)\n",
      "('IsMale', 'has weight of', 0.0)\n",
      "('education_ 10th', 'has weight of', -1.9487918111293085e-05)\n",
      "('education_ 11th', 'has weight of', -2.8034861077977512e-05)\n",
      "('education_ 12th', 'has weight of', -8.6662151150069262e-06)\n",
      "('education_ 1st-4th', 'has weight of', -3.1323431788833518e-06)\n",
      "('education_ 5th-6th', 'has weight of', -7.1853582314547716e-06)\n",
      "('education_ 7th-8th', 'has weight of', -1.5161124536030876e-05)\n",
      "('education_ 9th', 'has weight of', -1.176321904355749e-05)\n",
      "('education_ Assoc-acdm', 'has weight of', -4.7463361665470612e-06)\n",
      "('education_ Assoc-voc', 'has weight of', -7.4125949716629384e-06)\n",
      "('education_ Bachelors', 'has weight of', 6.1699869297245888e-05)\n",
      "('education_ Doctorate', 'has weight of', 1.7133793150619412e-05)\n",
      "('education_ HS-grad', 'has weight of', -0.00014864760312889076)\n",
      "('education_ Masters', 'has weight of', 4.165352060029977e-05)\n",
      "('education_ Preschool', 'has weight of', -1.3333661549528674e-06)\n",
      "('education_ Prof-school', 'has weight of', 2.0446758782008919e-05)\n",
      "('education_ Some-college', 'has weight of', -7.7682386463090675e-05)\n"
     ]
    }
   ],
   "source": [
    "# Interpret the weights\n",
    "\n",
    "# Iterate over the coefficients\n",
    "weights = lr_clf.coef_.T # take transpose to make a column vector\n",
    "variable_names = df.columns\n",
    "for coef, name in zip(weights,variable_names):\n",
    "    print(name, 'has weight of', coef[0])"
   ]
  },
  {
   "cell_type": "markdown",
   "metadata": {},
   "source": [
    "<b>Since we want to make the weights which have a large magnitude correspond to features that are more important.</b>\n",
    "<b>To achieve this, we normalize the features and therefore make the weights interpretable.</b>"
   ]
  },
  {
   "cell_type": "code",
   "execution_count": 31,
   "metadata": {
    "collapsed": false
   },
   "outputs": [
    {
     "name": "stdout",
     "output_type": "stream",
     "text": [
      "('accuracy:', 0.84151193633952259)\n",
      "[[2063  184]\n",
      " [ 294  475]]\n",
      "('IsMale', 'has weight of', 0.0)\n",
      "('native_country_ Haiti', 'has weight of', 0.00050377088546294218)\n",
      "('native_country_ Trinadad&Tobago', 'has weight of', -0.00082632547358636884)\n",
      "('native_country_ Hungary', 'has weight of', 0.0017279696823079731)\n",
      "('education_ Some-college', 'has weight of', -0.0037096812490081061)\n",
      "('education_ Assoc-voc', 'has weight of', 0.004673068906207424)\n",
      "('native_country_ Hong', 'has weight of', 0.0055380217871709029)\n",
      "('native_country_ Taiwan', 'has weight of', -0.0055672320398158946)\n",
      "('native_country_ Laos', 'has weight of', -0.0058085350940216534)\n",
      "('native_country_ Portugal', 'has weight of', 0.0069257883452828141)\n",
      "('native_country_ Japan', 'has weight of', 0.0086212535206175896)\n",
      "('native_country_ Iran', 'has weight of', 0.0086376019173788829)\n",
      "('native_country_ Puerto-Rico', 'has weight of', -0.0088819353563629657)\n",
      "('native_country_ Poland', 'has weight of', 0.0097057775637365389)\n",
      "('native_country_ Scotland', 'has weight of', -0.0099099842161876218)\n",
      "('native_country_ Holand-Netherlands', 'has weight of', -0.013367633017008216)\n",
      "('occupation_ Transport-moving', 'has weight of', -0.014199557943623963)\n",
      "('native_country_ Philippines', 'has weight of', 0.01677070935677108)\n",
      "('native_country_ Yugoslavia', 'has weight of', 0.0169813859326838)\n",
      "('native_country_ Thailand', 'has weight of', -0.017265097412893667)\n",
      "('occupation_ Armed-Forces', 'has weight of', -0.018597519803248225)\n",
      "('native_country_ Honduras', 'has weight of', -0.018835324984336627)\n",
      "('native_country_ Ireland', 'has weight of', 0.020508764487903765)\n",
      "('native_country_ England', 'has weight of', 0.020795943506408645)\n",
      "('native_country_ Jamaica', 'has weight of', 0.021061505805363659)\n",
      "('native_country_ India', 'has weight of', -0.021677919195016292)\n",
      "('native_country_ Cuba', 'has weight of', 0.021879836200590926)\n",
      "('native_country_ Nicaragua', 'has weight of', -0.022252741524996341)\n",
      "('occupation_ Craft-repair', 'has weight of', 0.022295098505204489)\n",
      "('native_country_ Canada', 'has weight of', 0.022351408862136116)\n",
      "('race_ White', 'has weight of', 0.02239450924517955)\n",
      "('native_country_ France', 'has weight of', 0.023378691798505047)\n",
      "('native_country_ Peru', 'has weight of', -0.02404056644205654)\n",
      "('education_ Assoc-acdm', 'has weight of', -0.02425475403602919)\n",
      "('education_ 12th', 'has weight of', -0.025126032346048262)\n",
      "('native_country_ Greece', 'has weight of', -0.025414609953484511)\n",
      "('native_country_ El-Salvador', 'has weight of', -0.025689308101635683)\n",
      "('race_ Black', 'has weight of', -0.027005045937520504)\n",
      "('native_country_ Cambodia', 'has weight of', 0.027512475005663513)\n",
      "('education_ 1st-4th', 'has weight of', -0.029270413899866499)\n",
      "('workclass_ Local-gov', 'has weight of', -0.033174524710405481)\n",
      "('native_country_ China', 'has weight of', -0.037137944944683324)\n",
      "('occupation_ Adm-clerical', 'has weight of', -0.037701835298213235)\n",
      "('native_country_ Ecuador', 'has weight of', -0.038296964434424603)\n",
      "('native_country_ Germany', 'has weight of', 0.038559457464109652)\n",
      "('workclass_ Private', 'has weight of', 0.03869098922163506)\n",
      "('workclass_ State-gov', 'has weight of', -0.039789797979878645)\n",
      "('race_ Amer-Indian-Eskimo', 'has weight of', -0.040233160763433397)\n",
      "('native_country_ Italy', 'has weight of', 0.040666771757349791)\n",
      "('marital_status_ Married-AF-spouse', 'has weight of', 0.042772123187755286)\n",
      "('native_country_ Mexico', 'has weight of', -0.047533192945186105)\n",
      "('native_country_ Vietnam', 'has weight of', -0.048586541760935756)\n",
      "('race_ Other', 'has weight of', -0.048894501255699545)\n",
      "('race_ Asian-Pac-Islander', 'has weight of', 0.049155552936605028)\n",
      "('relationship_ Unmarried', 'has weight of', -0.051473775926227164)\n",
      "('workclass_ Self-emp-inc', 'has weight of', 0.052925794581528331)\n",
      "('marital_status_ Married-spouse-absent', 'has weight of', -0.059708210636363626)\n",
      "('native_country_ South', 'has weight of', -0.06081230020281899)\n",
      "('education_ 5th-6th', 'has weight of', -0.062157170348794845)\n",
      "('relationship_ Not-in-family', 'has weight of', 0.065892226042956234)\n",
      "('native_country_ United-States', 'has weight of', 0.06857286028589353)\n",
      "('education_ 10th', 'has weight of', -0.070840439931283999)\n",
      "('native_country_ Dominican-Republic', 'has weight of', -0.070849500343975094)\n",
      "('native_country_ Outlying-US(Guam-USVI-etc)', 'has weight of', -0.072757100500942154)\n",
      "('occupation_ Machine-op-inspct', 'has weight of', -0.075121208529888919)\n",
      "('occupation_ Sales', 'has weight of', 0.076886474834321511)\n",
      "('native_country_ Columbia', 'has weight of', -0.078908785840458393)\n",
      "('fnlwgt', 'has weight of', 0.081662500316281098)\n",
      "('native_country_ Guatemala', 'has weight of', -0.082096520657104377)\n",
      "('education_ 9th', 'has weight of', -0.083122522037543167)\n",
      "('workclass_ Without-pay', 'has weight of', -0.083229216008656362)\n",
      "('occupation_ Protective-serv', 'has weight of', 0.08386455209844644)\n",
      "('marital_status_ Separated', 'has weight of', -0.086914978286208353)\n",
      "('education_ HS-grad', 'has weight of', -0.087557685853276543)\n",
      "('workclass_ Self-emp-not-inc', 'has weight of', -0.097007141874497604)\n",
      "('education_ 11th', 'has weight of', -0.097073526476153957)\n",
      "('education_ 7th-8th', 'has weight of', -0.097713972965561682)\n",
      "('marital_status_ Widowed', 'has weight of', -0.10253875765769754)\n",
      "('workclass_ Federal-gov', 'has weight of', 0.10455410967654784)\n",
      "('occupation_ Tech-support', 'has weight of', 0.11050148783996711)\n",
      "('education_ Doctorate', 'has weight of', 0.11315320683467209)\n",
      "('relationship_ Other-relative', 'has weight of', -0.11968983555296871)\n",
      "('occupation_ Handlers-cleaners', 'has weight of', -0.13639150367778147)\n",
      "('education_ Masters', 'has weight of', 0.13928442273802655)\n",
      "('education_ Prof-school', 'has weight of', 0.14144071375551931)\n",
      "('occupation_ Prof-specialty', 'has weight of', 0.14665927678881824)\n",
      "('education_ Bachelors', 'has weight of', 0.1540423694049193)\n",
      "('relationship_ Husband', 'has weight of', 0.15654974784654291)\n",
      "('occupation_ Farming-fishing', 'has weight of', -0.18320028499387939)\n",
      "('relationship_ Wife', 'has weight of', 0.18631954318015159)\n",
      "('occupation_ Priv-house-serv', 'has weight of', -0.2017110769848342)\n",
      "('marital_status_ Divorced', 'has weight of', -0.20340221698670313)\n",
      "('occupation_ Exec-managerial', 'has weight of', 0.24034475920566231)\n",
      "('capital_loss', 'has weight of', 0.24359492521238751)\n",
      "('education_ Preschool', 'has weight of', -0.27133789522354351)\n",
      "('occupation_ Other-service', 'has weight of', -0.27589227036141323)\n",
      "('relationship_ Own-child', 'has weight of', -0.30638506595544207)\n",
      "('age', 'has weight of', 0.33196396920609028)\n",
      "('education_num', 'has weight of', 0.34839123540440314)\n",
      "('hours_per_week', 'has weight of', 0.35465343141732975)\n",
      "('marital_status_ Never-married', 'has weight of', -0.4436056731919974)\n",
      "('marital_status_ Married-civ-spouse', 'has weight of', 0.63226651769298625)\n",
      "('capital_gain', 'has weight of', 2.0919820644847529)\n"
     ]
    }
   ],
   "source": [
    "from sklearn.preprocessing import StandardScaler\n",
    "\n",
    "# We want to normalize the features based upon the mean and standard deviation of each column. \n",
    "# However, we do not want to accidentally use the testing data to find out the mean and std (this would be snooping)\n",
    "# to Make things easier, let's start by just using whatever was last stored in the variables:\n",
    "##    X_train , y_train , X_test, y_test (they were set in a for loop above)\n",
    "\n",
    "# Scale attributes by the training set\n",
    "scl_obj = StandardScaler()\n",
    "scl_obj.fit(X_train) #Find scalings for each column that make this zero mean and unit std\n",
    "# The line of code above only looks at training data to get mean and std and we can use it \n",
    "# to transform new feature data\n",
    "\n",
    "X_train_scaled = scl_obj.transform(X_train) # Apply to training\n",
    "X_test_scaled = scl_obj.transform(X_test) # Apply those means and std to the test set (without snooping at the test set values)\n",
    "\n",
    "# Train the model just as before\n",
    "lr_clf = LogisticRegression(penalty='l2', C=0.05) # Get object, the 'C' value is less (can you guess why??)\n",
    "lr_clf.fit(X_train_scaled,y_train)  # Train object\n",
    "\n",
    "y_hat = lr_clf.predict(X_test_scaled) # Get test set precitions\n",
    "\n",
    "acc = mt.accuracy_score(y_test,y_hat)\n",
    "conf = mt.confusion_matrix(y_test,y_hat)\n",
    "print('accuracy:', acc )\n",
    "print(conf )\n",
    "\n",
    "# Sort these attributes and spit them out\n",
    "zip_vars = zip(lr_clf.coef_.T,df.columns) # Combine attributes\n",
    "zip_vars.sort(key = lambda t: np.abs(t[0])) # Sort them by the magnitude of the weight\n",
    "for coef, name in zip_vars:\n",
    "    print(name, 'has weight of', coef[0]) # Now print them out"
   ]
  },
  {
   "cell_type": "markdown",
   "metadata": {},
   "source": [
    "<b>Evaluating the above ordered weights, we can see that capital_gain, marital_status of married-civ-spouse, hours_per_week, education_num and age are the most important variables.  We also visualize these weights below before we remove the unnecessary variables.</b>"
   ]
  },
  {
   "cell_type": "code",
   "execution_count": 32,
   "metadata": {
    "collapsed": false
   },
   "outputs": [
    {
     "data": {
      "image/png": "[encoded data removed]",
      "text/plain": [
       "<matplotlib.figure.Figure at 0x126596a0>"
      ]
     },
     "metadata": {},
     "output_type": "display_data"
    },
    {
     "data": {
      "text/plain": [
       "{'boxes': [<matplotlib.lines.Line2D at 0x1acdecf8>],\n",
       " 'caps': [<matplotlib.lines.Line2D at 0x1acef978>,\n",
       "  <matplotlib.lines.Line2D at 0x1acefef0>],\n",
       " 'fliers': [<matplotlib.lines.Line2D at 0x1acffa20>],\n",
       " 'means': [],\n",
       " 'medians': [<matplotlib.lines.Line2D at 0x1acff4a8>],\n",
       " 'whiskers': [<matplotlib.lines.Line2D at 0x1acdedd8>,\n",
       "  <matplotlib.lines.Line2D at 0x1acef400>]}"
      ]
     },
     "execution_count": 32,
     "metadata": {},
     "output_type": "execute_result"
    },
    {
     "data": {
      "image/png": "[encoded data removed]",
      "text/plain": [
       "<matplotlib.figure.Figure at 0x1894fef0>"
      ]
     },
     "metadata": {},
     "output_type": "display_data"
    }
   ],
   "source": [
    "# Now let's make a pandas Series with the names and values, and plot them\n",
    "from matplotlib import pyplot as plt\n",
    "%matplotlib inline\n",
    "plt.style.use('ggplot')\n",
    "\n",
    "plt.figure(figsize=(16,4))\n",
    "weights = pd.Series(lr_clf.coef_[0],index=df.columns)\n",
    "weights.plot(kind='bar')\n",
    "plt.show()\n",
    "\n",
    "plt.boxplot(weights)\n"
   ]
  },
  {
   "cell_type": "markdown",
   "metadata": {},
   "source": [
    "After observing the weights, we find only keeping variables with a weight greater than or equal to .31 yields an optimal model.\n",
    "\n",
    "The four blocks of code below were run to determine the accuracy associated with keeping different variables based upon their weights:\n",
    "\n",
    "coef <= 0.1 yields approx. 84% accuracy - 15 attributes<br>\n",
    "coef <= 0.15 yields approx. 84% accuracy - 10 attributes<br>\n",
    "coef <= 0.2 yields approx. 84% accuracy - 9 attributes<br>\n",
    "coef <= 0.25 yeilds approx. 83% accuracy - 7 attributes<br>\n",
    "coef <= 0.31 yeilds approx. 83% accuracy - 5 attributes<br>\n",
    "coef <= 0.35 yeilds approx. 80% accuracy - 3 attributes<br>\n",
    "coef <= 0.4 yeilds approx. 78% accuracy - 2 attributes<br>\n",
    "\n",
    "We feel an 80% accuracy which keeps capital_gain, hours_per_week, age, education_num, and marital_status_ Married-civ-spouse is a suitable model which minimizes overfitting."
   ]
  },
  {
   "cell_type": "code",
   "execution_count": 33,
   "metadata": {
    "collapsed": false
   },
   "outputs": [
    {
     "name": "stdout",
     "output_type": "stream",
     "text": [
      "('dropping', 'IsMale')\n",
      "('dropping', 'native_country_ Haiti')\n",
      "('dropping', 'native_country_ Trinadad&Tobago')\n",
      "('dropping', 'native_country_ Hungary')\n",
      "('dropping', 'education_ Some-college')\n",
      "('dropping', 'education_ Assoc-voc')\n",
      "('dropping', 'native_country_ Hong')\n",
      "('dropping', 'native_country_ Taiwan')\n",
      "('dropping', 'native_country_ Laos')\n",
      "('dropping', 'native_country_ Portugal')\n",
      "('dropping', 'native_country_ Japan')\n",
      "('dropping', 'native_country_ Iran')\n",
      "('dropping', 'native_country_ Puerto-Rico')\n",
      "('dropping', 'native_country_ Poland')\n",
      "('dropping', 'native_country_ Scotland')\n",
      "('dropping', 'native_country_ Holand-Netherlands')\n",
      "('dropping', 'occupation_ Transport-moving')\n",
      "('dropping', 'native_country_ Philippines')\n",
      "('dropping', 'native_country_ Yugoslavia')\n",
      "('dropping', 'native_country_ Thailand')\n",
      "('dropping', 'occupation_ Armed-Forces')\n",
      "('dropping', 'native_country_ Honduras')\n",
      "('dropping', 'native_country_ Ireland')\n",
      "('dropping', 'native_country_ England')\n",
      "('dropping', 'native_country_ Jamaica')\n",
      "('dropping', 'native_country_ India')\n",
      "('dropping', 'native_country_ Cuba')\n",
      "('dropping', 'native_country_ Nicaragua')\n",
      "('dropping', 'occupation_ Craft-repair')\n",
      "('dropping', 'native_country_ Canada')\n",
      "('dropping', 'race_ White')\n",
      "('dropping', 'native_country_ France')\n",
      "('dropping', 'native_country_ Peru')\n",
      "('dropping', 'education_ Assoc-acdm')\n",
      "('dropping', 'education_ 12th')\n",
      "('dropping', 'native_country_ Greece')\n",
      "('dropping', 'native_country_ El-Salvador')\n",
      "('dropping', 'race_ Black')\n",
      "('dropping', 'native_country_ Cambodia')\n",
      "('dropping', 'education_ 1st-4th')\n",
      "('dropping', 'workclass_ Local-gov')\n",
      "('dropping', 'native_country_ China')\n",
      "('dropping', 'occupation_ Adm-clerical')\n",
      "('dropping', 'native_country_ Ecuador')\n",
      "('dropping', 'native_country_ Germany')\n",
      "('dropping', 'workclass_ Private')\n",
      "('dropping', 'workclass_ State-gov')\n",
      "('dropping', 'race_ Amer-Indian-Eskimo')\n",
      "('dropping', 'native_country_ Italy')\n",
      "('dropping', 'marital_status_ Married-AF-spouse')\n",
      "('dropping', 'native_country_ Mexico')\n",
      "('dropping', 'native_country_ Vietnam')\n",
      "('dropping', 'race_ Other')\n",
      "('dropping', 'race_ Asian-Pac-Islander')\n",
      "('dropping', 'relationship_ Unmarried')\n",
      "('dropping', 'workclass_ Self-emp-inc')\n",
      "('dropping', 'marital_status_ Married-spouse-absent')\n",
      "('dropping', 'native_country_ South')\n",
      "('dropping', 'education_ 5th-6th')\n",
      "('dropping', 'relationship_ Not-in-family')\n",
      "('dropping', 'native_country_ United-States')\n",
      "('dropping', 'education_ 10th')\n",
      "('dropping', 'native_country_ Dominican-Republic')\n",
      "('dropping', 'native_country_ Outlying-US(Guam-USVI-etc)')\n",
      "('dropping', 'occupation_ Machine-op-inspct')\n",
      "('dropping', 'occupation_ Sales')\n",
      "('dropping', 'native_country_ Columbia')\n",
      "('dropping', 'fnlwgt')\n",
      "('dropping', 'native_country_ Guatemala')\n",
      "('dropping', 'education_ 9th')\n",
      "('dropping', 'workclass_ Without-pay')\n",
      "('dropping', 'occupation_ Protective-serv')\n",
      "('dropping', 'marital_status_ Separated')\n",
      "('dropping', 'education_ HS-grad')\n",
      "('dropping', 'workclass_ Self-emp-not-inc')\n",
      "('dropping', 'education_ 11th')\n",
      "('dropping', 'education_ 7th-8th')\n",
      "('dropping', 'marital_status_ Widowed')\n",
      "('dropping', 'workclass_ Federal-gov')\n",
      "('dropping', 'occupation_ Tech-support')\n",
      "('dropping', 'education_ Doctorate')\n",
      "('dropping', 'relationship_ Other-relative')\n",
      "('dropping', 'occupation_ Handlers-cleaners')\n",
      "('dropping', 'education_ Masters')\n",
      "('dropping', 'education_ Prof-school')\n",
      "('dropping', 'occupation_ Prof-specialty')\n",
      "('dropping', 'education_ Bachelors')\n",
      "('dropping', 'relationship_ Husband')\n",
      "('dropping', 'occupation_ Farming-fishing')\n",
      "('dropping', 'relationship_ Wife')\n",
      "('dropping', 'occupation_ Priv-house-serv')\n",
      "('dropping', 'marital_status_ Divorced')\n",
      "('dropping', 'occupation_ Exec-managerial')\n",
      "('dropping', 'capital_loss')\n",
      "('dropping', 'education_ Preschool')\n",
      "('dropping', 'occupation_ Other-service')\n",
      "('dropping', 'relationship_ Own-child')\n",
      "('dropping', 'marital_status_ Never-married')\n"
     ]
    }
   ],
   "source": [
    "## http://stackoverflow.com/questions/13411544/delete-column-from-pandas-dataframe\n",
    " \n",
    "zip_vars = zip(lr_clf.coef_.T,df.columns) # combine attributes\n",
    "zip_vars.sort(key = lambda t: np.abs(t[0])) # sort them by the magnitude of the weight\n",
    "\n",
    "## Dropping weights less than or equal to 0.31\n",
    "for coef, name in zip_vars:\n",
    "    if coef <= 0.31:\n",
    "        df.drop(name, axis=1, inplace=True)\n",
    "        print(\"dropping\",name)"
   ]
  },
  {
   "cell_type": "markdown",
   "metadata": {},
   "source": [
    "Review what is in the dataframe"
   ]
  },
  {
   "cell_type": "code",
   "execution_count": 34,
   "metadata": {
    "collapsed": false
   },
   "outputs": [
    {
     "name": "stdout",
     "output_type": "stream",
     "text": [
      "<class 'pandas.core.frame.DataFrame'>\n",
      "Int64Index: 30162 entries, 0 to 32560\n",
      "Data columns (total 5 columns):\n",
      "age                                   30162 non-null int64\n",
      "education_num                         30162 non-null int64\n",
      "capital_gain                          30162 non-null float64\n",
      "hours_per_week                        30162 non-null int64\n",
      "marital_status_ Married-civ-spouse    30162 non-null float64\n",
      "dtypes: float64(2), int64(3)\n",
      "memory usage: 1.4 MB\n"
     ]
    }
   ],
   "source": [
    "df.info()"
   ]
  },
  {
   "cell_type": "markdown",
   "metadata": {},
   "source": [
    "<b>With the new dataset, we again are performing an 80/20 split of data for cross validating the models with training/test data</b>"
   ]
  },
  {
   "cell_type": "code",
   "execution_count": 35,
   "metadata": {
    "collapsed": false
   },
   "outputs": [
    {
     "name": "stdout",
     "output_type": "stream",
     "text": [
      "ShuffleSplit(30162, n_iter=3, test_size=0.2, random_state=None)\n"
     ]
    }
   ],
   "source": [
    "from sklearn.cross_validation import ShuffleSplit \n",
    "\n",
    "X = df.values # use everything else to predict!\n",
    "\n",
    "## X and y are now numpy matrices, by calling 'values' on the pandas data frames we\n",
    "#    have converted them into simple matrices to use with scikit learn\n",
    "    \n",
    "    \n",
    "# To use the cross validation object in scikit learn, we need to grab an instance\n",
    "#    of the object and set it up. This object will be able to split our data into \n",
    "#    training and testing splits\n",
    "num_cv_iterations = 3\n",
    "num_instances = len(y)\n",
    "cv_object = ShuffleSplit(n=num_instances,\n",
    "                         n_iter=num_cv_iterations,\n",
    "                         test_size  = 0.2)\n",
    "                         \n",
    "print(cv_object)"
   ]
  },
  {
   "cell_type": "code",
   "execution_count": 36,
   "metadata": {
    "collapsed": false,
    "scrolled": true
   },
   "outputs": [
    {
     "name": "stdout",
     "output_type": "stream",
     "text": [
      "[ 0.83756009  0.83872037  0.83590254]\n",
      "[ 0.83523952  0.83142715  0.83507376]\n",
      "[ 0.83258744  0.83275319  0.83573678]\n"
     ]
    }
   ],
   "source": [
    "## Re run logistic regression with dropped weights\n",
    "\n",
    "# First we create a reusable logisitic regression object.\n",
    "# Here we can setup the object with different learning parameters and constants\n",
    "lr_clf = LogisticRegression(penalty='l2', C=1.0, class_weight=None) # get object\n",
    "\n",
    "# Now we can use the cv_object that we setup before to iterate through the \n",
    "#    different training and testing sets. Each time we will reuse the logisitic regression \n",
    "#    object, but it gets trained on different data each time we use it.\n",
    "\n",
    "iter_num=0\n",
    "# The indices are the rows used for training and testing in each iteration\n",
    "for train_indices, test_indices in cv_object: \n",
    "    # I will create new variables here so that it is more obvious what \n",
    "    # the code is doing (you can compact this syntax and avoid duplicating memory,\n",
    "    # but it makes this code less readable)\n",
    "    X_train = X[train_indices]\n",
    "    y_train = y[train_indices]\n",
    "    \n",
    "    X_test = X[test_indices]\n",
    "    y_test = y[test_indices]\n",
    "    \n",
    "    # Train the reusable logisitc regression model on the training data\n",
    "    lr_clf.fit(X_train,y_train)  # Train object\n",
    "    y_hat = lr_clf.predict(X_test) # Get test set precitions\n",
    "\n",
    "    # View accuracies\n",
    "    accuracies = cross_val_score(lr_clf, X, y=y, cv=cv_object) # This also can help with parallelism\n",
    "    lr_1 = cross_val_score(lr_clf, X, y=y, cv=cv_object) # Store for statistical test\n",
    "    print(accuracies)"
   ]
  },
  {
   "cell_type": "code",
   "execution_count": 37,
   "metadata": {
    "collapsed": false
   },
   "outputs": [
    {
     "name": "stdout",
     "output_type": "stream",
     "text": [
      "('age', 'has weight of', 0.016135425510293244)\n",
      "('education_num', 'has weight of', 0.26336084876765881)\n",
      "('capital_gain', 'has weight of', 0.00029307236773578986)\n",
      "('hours_per_week', 'has weight of', 0.016106106989443689)\n",
      "('marital_status_ Married-civ-spouse', 'has weight of', 2.0901401421378925)\n"
     ]
    }
   ],
   "source": [
    "# Interpret the weights\n",
    "\n",
    "# Iterate over the coefficients\n",
    "weights = lr_clf.coef_.T # Take transpose to make a column vector\n",
    "variable_names = df.columns\n",
    "for coef, name in zip(weights,variable_names):\n",
    "    print(name, 'has weight of', coef[0])"
   ]
  },
  {
   "cell_type": "code",
   "execution_count": 38,
   "metadata": {
    "collapsed": false
   },
   "outputs": [
    {
     "name": "stdout",
     "output_type": "stream",
     "text": [
      "('accuracy:', 0.83142715067130779)\n",
      "[[4165  333]\n",
      " [ 684  851]]\n",
      "('hours_per_week', 'has weight of', 0.36307162149765554)\n",
      "('age', 'has weight of', 0.39104078916512403)\n",
      "('education_num', 'has weight of', 0.93327407871660906)\n",
      "('marital_status_ Married-civ-spouse', 'has weight of', 1.1695138820672377)\n",
      "('capital_gain', 'has weight of', 1.9918634897982042)\n"
     ]
    }
   ],
   "source": [
    "from sklearn.preprocessing import StandardScaler\n",
    "\n",
    "# We want to normalize the features based upon the mean and standard deviation of each column. \n",
    "# However, we do not want to accidentally use the testing data to find out the mean and std (this would be snooping)\n",
    "# to Make things easier, let's start by just using whatever was last stored in the variables:\n",
    "##    X_train , y_train , X_test, y_test (they were set in a for loop above)\n",
    "\n",
    "# Scale attributes by the training set\n",
    "scl_obj = StandardScaler()\n",
    "scl_obj.fit(X_train) # Find scalings for each column that make this zero mean and unit std\n",
    "# The line of code above only looks at training data to get mean and std and we can use it \n",
    "# To transform new feature data\n",
    "\n",
    "X_train_scaled = scl_obj.transform(X_train) # Apply to training\n",
    "X_test_scaled = scl_obj.transform(X_test) # Apply those means and std to the test set (without snooping at the test set values)\n",
    "\n",
    "# Train the model just as before\n",
    "lr_clf = LogisticRegression(penalty='l2', C=0.05) # Get object, the 'C' value is less (can you guess why??)\n",
    "lr_clf.fit(X_train_scaled,y_train)  # Train object\n",
    "\n",
    "y_hat = lr_clf.predict(X_test_scaled) # Get test set precitions\n",
    "\n",
    "acc = mt.accuracy_score(y_test,y_hat)\n",
    "conf = mt.confusion_matrix(y_test,y_hat)\n",
    "print('accuracy:', acc )\n",
    "print(conf )\n",
    "\n",
    "# Sort these attributes and spit them out\n",
    "zip_vars = zip(lr_clf.coef_.T,df.columns) # Combine attributes\n",
    "zip_vars.sort(key = lambda t: np.abs(t[0])) # Sort them by the magnitude of the weight\n",
    "for coef, name in zip_vars:\n",
    "    print(name, 'has weight of', coef[0]) # Now print them out"
   ]
  },
  {
   "cell_type": "markdown",
   "metadata": {},
   "source": [
    "The most important attribute from the logistic regression model is 'capital_gain' followed by 'marital_status_Married-civ-spouse', 'education_num', 'age', and 'hours_per_week' in predicting whether income is greater than \\$50K per year or if it is equal to or less than \\$50K per year. This is illustrated by the bar graph below. People with a salary of greater than $50K can be assumed to have higher capital gains. It is also more typical for one to increase income as they get old and have more education which is why it makes sense that age and education_num also are part of the model. Marriage tends to create typically create more stability, therefore, one would expect a better earning potential. They will be more career-focused. Lastly, hard work usually pays off, so higher hours worked per week should create a higher earning potential."
   ]
  },
  {
   "cell_type": "code",
   "execution_count": 39,
   "metadata": {
    "collapsed": false
   },
   "outputs": [
    {
     "data": {
      "image/png": "[encoded data removed]",
      "text/plain": [
       "<matplotlib.figure.Figure at 0x1ad186a0>"
      ]
     },
     "metadata": {},
     "output_type": "display_data"
    }
   ],
   "source": [
    "# Now let's make a pandas Series with the names and values, and plot them\n",
    "from matplotlib import pyplot as plt\n",
    "%matplotlib inline\n",
    "plt.style.use('ggplot')\n",
    "\n",
    "\n",
    "weights = pd.Series(lr_clf.coef_[0],index=df.columns)\n",
    "weights.plot(kind='bar')\n",
    "plt.show()"
   ]
  },
  {
   "cell_type": "markdown",
   "metadata": {
    "collapsed": true
   },
   "source": [
    "# Part 2\n",
    "For the second part, we want to test for a different variable. As stated in the introduction, we will now begin the second task in predicting the education level of an individual."
   ]
  },
  {
   "cell_type": "markdown",
   "metadata": {},
   "source": [
    "## Preparing the data\n",
    "We can use part of the inital work we did for cleaning up the data. We did this by saving the dataframe to partBDf. We reset df to the original dataframe by setting it equal to partBDF below. We now will have to prepare the data for analysis again."
   ]
  },
  {
   "cell_type": "code",
   "execution_count": 40,
   "metadata": {
    "collapsed": true
   },
   "outputs": [],
   "source": [
    "# let's reset df back to the saved version of the data for part b\n",
    "df = partBDf"
   ]
  },
  {
   "cell_type": "code",
   "execution_count": 41,
   "metadata": {
    "collapsed": false
   },
   "outputs": [
    {
     "data": {
      "text/html": [
       "<div>\n",
       "<table border=\"1\" class=\"dataframe\">\n",
       "  <thead>\n",
       "    <tr style=\"text-align: right;\">\n",
       "      <th></th>\n",
       "      <th>age</th>\n",
       "      <th>fnlwgt</th>\n",
       "      <th>education_num</th>\n",
       "      <th>capital_gain</th>\n",
       "      <th>capital_loss</th>\n",
       "      <th>hours_per_week</th>\n",
       "      <th>workclass_ Federal-gov</th>\n",
       "      <th>workclass_ Local-gov</th>\n",
       "      <th>workclass_ Private</th>\n",
       "      <th>workclass_ Self-emp-inc</th>\n",
       "      <th>...</th>\n",
       "      <th>native_country_ Scotland</th>\n",
       "      <th>native_country_ South</th>\n",
       "      <th>native_country_ Taiwan</th>\n",
       "      <th>native_country_ Thailand</th>\n",
       "      <th>native_country_ Trinadad&amp;Tobago</th>\n",
       "      <th>native_country_ United-States</th>\n",
       "      <th>native_country_ Vietnam</th>\n",
       "      <th>native_country_ Yugoslavia</th>\n",
       "      <th>IsMale</th>\n",
       "      <th>salary_cat_binary</th>\n",
       "    </tr>\n",
       "  </thead>\n",
       "  <tbody>\n",
       "    <tr>\n",
       "      <th>count</th>\n",
       "      <td>30162.000000</td>\n",
       "      <td>3.016200e+04</td>\n",
       "      <td>30162.000000</td>\n",
       "      <td>30162.000000</td>\n",
       "      <td>30162.000000</td>\n",
       "      <td>30162.000000</td>\n",
       "      <td>30162.000000</td>\n",
       "      <td>30162.000000</td>\n",
       "      <td>30162.000000</td>\n",
       "      <td>30162.000000</td>\n",
       "      <td>...</td>\n",
       "      <td>30162.000000</td>\n",
       "      <td>30162.000000</td>\n",
       "      <td>30162.000000</td>\n",
       "      <td>30162.000000</td>\n",
       "      <td>30162.000000</td>\n",
       "      <td>30162.000000</td>\n",
       "      <td>30162.000000</td>\n",
       "      <td>30162.000000</td>\n",
       "      <td>30162.0</td>\n",
       "      <td>30162.000000</td>\n",
       "    </tr>\n",
       "    <tr>\n",
       "      <th>mean</th>\n",
       "      <td>38.437902</td>\n",
       "      <td>1.897938e+05</td>\n",
       "      <td>10.121312</td>\n",
       "      <td>1092.007858</td>\n",
       "      <td>88.372489</td>\n",
       "      <td>40.931238</td>\n",
       "      <td>0.031265</td>\n",
       "      <td>0.068530</td>\n",
       "      <td>0.738877</td>\n",
       "      <td>0.035608</td>\n",
       "      <td>...</td>\n",
       "      <td>0.000365</td>\n",
       "      <td>0.002354</td>\n",
       "      <td>0.001392</td>\n",
       "      <td>0.000564</td>\n",
       "      <td>0.000597</td>\n",
       "      <td>0.911876</td>\n",
       "      <td>0.002122</td>\n",
       "      <td>0.000530</td>\n",
       "      <td>0.0</td>\n",
       "      <td>0.248922</td>\n",
       "    </tr>\n",
       "    <tr>\n",
       "      <th>std</th>\n",
       "      <td>13.134665</td>\n",
       "      <td>1.056530e+05</td>\n",
       "      <td>2.549995</td>\n",
       "      <td>7406.346497</td>\n",
       "      <td>404.298370</td>\n",
       "      <td>11.979984</td>\n",
       "      <td>0.174035</td>\n",
       "      <td>0.252657</td>\n",
       "      <td>0.439254</td>\n",
       "      <td>0.185313</td>\n",
       "      <td>...</td>\n",
       "      <td>0.019094</td>\n",
       "      <td>0.048461</td>\n",
       "      <td>0.037291</td>\n",
       "      <td>0.023734</td>\n",
       "      <td>0.024422</td>\n",
       "      <td>0.283480</td>\n",
       "      <td>0.046016</td>\n",
       "      <td>0.023026</td>\n",
       "      <td>0.0</td>\n",
       "      <td>0.432396</td>\n",
       "    </tr>\n",
       "    <tr>\n",
       "      <th>min</th>\n",
       "      <td>17.000000</td>\n",
       "      <td>1.376900e+04</td>\n",
       "      <td>1.000000</td>\n",
       "      <td>0.000000</td>\n",
       "      <td>0.000000</td>\n",
       "      <td>1.000000</td>\n",
       "      <td>0.000000</td>\n",
       "      <td>0.000000</td>\n",
       "      <td>0.000000</td>\n",
       "      <td>0.000000</td>\n",
       "      <td>...</td>\n",
       "      <td>0.000000</td>\n",
       "      <td>0.000000</td>\n",
       "      <td>0.000000</td>\n",
       "      <td>0.000000</td>\n",
       "      <td>0.000000</td>\n",
       "      <td>0.000000</td>\n",
       "      <td>0.000000</td>\n",
       "      <td>0.000000</td>\n",
       "      <td>0.0</td>\n",
       "      <td>0.000000</td>\n",
       "    </tr>\n",
       "    <tr>\n",
       "      <th>25%</th>\n",
       "      <td>28.000000</td>\n",
       "      <td>1.176272e+05</td>\n",
       "      <td>9.000000</td>\n",
       "      <td>0.000000</td>\n",
       "      <td>0.000000</td>\n",
       "      <td>40.000000</td>\n",
       "      <td>0.000000</td>\n",
       "      <td>0.000000</td>\n",
       "      <td>0.000000</td>\n",
       "      <td>0.000000</td>\n",
       "      <td>...</td>\n",
       "      <td>0.000000</td>\n",
       "      <td>0.000000</td>\n",
       "      <td>0.000000</td>\n",
       "      <td>0.000000</td>\n",
       "      <td>0.000000</td>\n",
       "      <td>1.000000</td>\n",
       "      <td>0.000000</td>\n",
       "      <td>0.000000</td>\n",
       "      <td>0.0</td>\n",
       "      <td>0.000000</td>\n",
       "    </tr>\n",
       "    <tr>\n",
       "      <th>50%</th>\n",
       "      <td>37.000000</td>\n",
       "      <td>1.784250e+05</td>\n",
       "      <td>10.000000</td>\n",
       "      <td>0.000000</td>\n",
       "      <td>0.000000</td>\n",
       "      <td>40.000000</td>\n",
       "      <td>0.000000</td>\n",
       "      <td>0.000000</td>\n",
       "      <td>1.000000</td>\n",
       "      <td>0.000000</td>\n",
       "      <td>...</td>\n",
       "      <td>0.000000</td>\n",
       "      <td>0.000000</td>\n",
       "      <td>0.000000</td>\n",
       "      <td>0.000000</td>\n",
       "      <td>0.000000</td>\n",
       "      <td>1.000000</td>\n",
       "      <td>0.000000</td>\n",
       "      <td>0.000000</td>\n",
       "      <td>0.0</td>\n",
       "      <td>0.000000</td>\n",
       "    </tr>\n",
       "    <tr>\n",
       "      <th>75%</th>\n",
       "      <td>47.000000</td>\n",
       "      <td>2.376285e+05</td>\n",
       "      <td>13.000000</td>\n",
       "      <td>0.000000</td>\n",
       "      <td>0.000000</td>\n",
       "      <td>45.000000</td>\n",
       "      <td>0.000000</td>\n",
       "      <td>0.000000</td>\n",
       "      <td>1.000000</td>\n",
       "      <td>0.000000</td>\n",
       "      <td>...</td>\n",
       "      <td>0.000000</td>\n",
       "      <td>0.000000</td>\n",
       "      <td>0.000000</td>\n",
       "      <td>0.000000</td>\n",
       "      <td>0.000000</td>\n",
       "      <td>1.000000</td>\n",
       "      <td>0.000000</td>\n",
       "      <td>0.000000</td>\n",
       "      <td>0.0</td>\n",
       "      <td>0.000000</td>\n",
       "    </tr>\n",
       "    <tr>\n",
       "      <th>max</th>\n",
       "      <td>90.000000</td>\n",
       "      <td>1.484705e+06</td>\n",
       "      <td>16.000000</td>\n",
       "      <td>99999.000000</td>\n",
       "      <td>4356.000000</td>\n",
       "      <td>99.000000</td>\n",
       "      <td>1.000000</td>\n",
       "      <td>1.000000</td>\n",
       "      <td>1.000000</td>\n",
       "      <td>1.000000</td>\n",
       "      <td>...</td>\n",
       "      <td>1.000000</td>\n",
       "      <td>1.000000</td>\n",
       "      <td>1.000000</td>\n",
       "      <td>1.000000</td>\n",
       "      <td>1.000000</td>\n",
       "      <td>1.000000</td>\n",
       "      <td>1.000000</td>\n",
       "      <td>1.000000</td>\n",
       "      <td>0.0</td>\n",
       "      <td>1.000000</td>\n",
       "    </tr>\n",
       "  </tbody>\n",
       "</table>\n",
       "<p>8 rows × 88 columns</p>\n",
       "</div>"
      ],
      "text/plain": [
       "                age        fnlwgt  education_num  capital_gain  capital_loss  \\\n",
       "count  30162.000000  3.016200e+04   30162.000000  30162.000000  30162.000000   \n",
       "mean      38.437902  1.897938e+05      10.121312   1092.007858     88.372489   \n",
       "std       13.134665  1.056530e+05       2.549995   7406.346497    404.298370   \n",
       "min       17.000000  1.376900e+04       1.000000      0.000000      0.000000   \n",
       "25%       28.000000  1.176272e+05       9.000000      0.000000      0.000000   \n",
       "50%       37.000000  1.784250e+05      10.000000      0.000000      0.000000   \n",
       "75%       47.000000  2.376285e+05      13.000000      0.000000      0.000000   \n",
       "max       90.000000  1.484705e+06      16.000000  99999.000000   4356.000000   \n",
       "\n",
       "       hours_per_week  workclass_ Federal-gov  workclass_ Local-gov  \\\n",
       "count    30162.000000            30162.000000          30162.000000   \n",
       "mean        40.931238                0.031265              0.068530   \n",
       "std         11.979984                0.174035              0.252657   \n",
       "min          1.000000                0.000000              0.000000   \n",
       "25%         40.000000                0.000000              0.000000   \n",
       "50%         40.000000                0.000000              0.000000   \n",
       "75%         45.000000                0.000000              0.000000   \n",
       "max         99.000000                1.000000              1.000000   \n",
       "\n",
       "       workclass_ Private  workclass_ Self-emp-inc        ...          \\\n",
       "count        30162.000000             30162.000000        ...           \n",
       "mean             0.738877                 0.035608        ...           \n",
       "std              0.439254                 0.185313        ...           \n",
       "min              0.000000                 0.000000        ...           \n",
       "25%              0.000000                 0.000000        ...           \n",
       "50%              1.000000                 0.000000        ...           \n",
       "75%              1.000000                 0.000000        ...           \n",
       "max              1.000000                 1.000000        ...           \n",
       "\n",
       "       native_country_ Scotland  native_country_ South  \\\n",
       "count              30162.000000           30162.000000   \n",
       "mean                   0.000365               0.002354   \n",
       "std                    0.019094               0.048461   \n",
       "min                    0.000000               0.000000   \n",
       "25%                    0.000000               0.000000   \n",
       "50%                    0.000000               0.000000   \n",
       "75%                    0.000000               0.000000   \n",
       "max                    1.000000               1.000000   \n",
       "\n",
       "       native_country_ Taiwan  native_country_ Thailand  \\\n",
       "count            30162.000000              30162.000000   \n",
       "mean                 0.001392                  0.000564   \n",
       "std                  0.037291                  0.023734   \n",
       "min                  0.000000                  0.000000   \n",
       "25%                  0.000000                  0.000000   \n",
       "50%                  0.000000                  0.000000   \n",
       "75%                  0.000000                  0.000000   \n",
       "max                  1.000000                  1.000000   \n",
       "\n",
       "       native_country_ Trinadad&Tobago  native_country_ United-States  \\\n",
       "count                     30162.000000                   30162.000000   \n",
       "mean                          0.000597                       0.911876   \n",
       "std                           0.024422                       0.283480   \n",
       "min                           0.000000                       0.000000   \n",
       "25%                           0.000000                       1.000000   \n",
       "50%                           0.000000                       1.000000   \n",
       "75%                           0.000000                       1.000000   \n",
       "max                           1.000000                       1.000000   \n",
       "\n",
       "       native_country_ Vietnam  native_country_ Yugoslavia   IsMale  \\\n",
       "count             30162.000000                30162.000000  30162.0   \n",
       "mean                  0.002122                    0.000530      0.0   \n",
       "std                   0.046016                    0.023026      0.0   \n",
       "min                   0.000000                    0.000000      0.0   \n",
       "25%                   0.000000                    0.000000      0.0   \n",
       "50%                   0.000000                    0.000000      0.0   \n",
       "75%                   0.000000                    0.000000      0.0   \n",
       "max                   1.000000                    1.000000      0.0   \n",
       "\n",
       "       salary_cat_binary  \n",
       "count       30162.000000  \n",
       "mean            0.248922  \n",
       "std             0.432396  \n",
       "min             0.000000  \n",
       "25%             0.000000  \n",
       "50%             0.000000  \n",
       "75%             0.000000  \n",
       "max             1.000000  \n",
       "\n",
       "[8 rows x 88 columns]"
      ]
     },
     "execution_count": 41,
     "metadata": {},
     "output_type": "execute_result"
    }
   ],
   "source": [
    "df.describe()"
   ]
  },
  {
   "cell_type": "code",
   "execution_count": 42,
   "metadata": {
    "collapsed": false
   },
   "outputs": [
    {
     "name": "stdout",
     "output_type": "stream",
     "text": [
      "Index([u'age', u'fnlwgt', u'education', u'education_num', u'capital_gain',\n",
      "       u'capital_loss', u'hours_per_week', u'workclass_ Federal-gov',\n",
      "       u'workclass_ Local-gov', u'workclass_ Private',\n",
      "       u'workclass_ Self-emp-inc', u'workclass_ Self-emp-not-inc',\n",
      "       u'workclass_ State-gov', u'workclass_ Without-pay',\n",
      "       u'marital_status_ Divorced', u'marital_status_ Married-AF-spouse',\n",
      "       u'marital_status_ Married-civ-spouse',\n",
      "       u'marital_status_ Married-spouse-absent',\n",
      "       u'marital_status_ Never-married', u'marital_status_ Separated',\n",
      "       u'marital_status_ Widowed', u'occupation_ Adm-clerical',\n",
      "       u'occupation_ Armed-Forces', u'occupation_ Craft-repair',\n",
      "       u'occupation_ Exec-managerial', u'occupation_ Farming-fishing',\n",
      "       u'occupation_ Handlers-cleaners', u'occupation_ Machine-op-inspct',\n",
      "       u'occupation_ Other-service', u'occupation_ Priv-house-serv',\n",
      "       u'occupation_ Prof-specialty', u'occupation_ Protective-serv',\n",
      "       u'occupation_ Sales', u'occupation_ Tech-support',\n",
      "       u'occupation_ Transport-moving', u'relationship_ Husband',\n",
      "       u'relationship_ Not-in-family', u'relationship_ Other-relative',\n",
      "       u'relationship_ Own-child', u'relationship_ Unmarried',\n",
      "       u'relationship_ Wife', u'race_ Amer-Indian-Eskimo',\n",
      "       u'race_ Asian-Pac-Islander', u'race_ Black', u'race_ Other',\n",
      "       u'race_ White', u'native_country_ Cambodia', u'native_country_ Canada',\n",
      "       u'native_country_ China', u'native_country_ Columbia',\n",
      "       u'native_country_ Cuba', u'native_country_ Dominican-Republic',\n",
      "       u'native_country_ Ecuador', u'native_country_ El-Salvador',\n",
      "       u'native_country_ England', u'native_country_ France',\n",
      "       u'native_country_ Germany', u'native_country_ Greece',\n",
      "       u'native_country_ Guatemala', u'native_country_ Haiti',\n",
      "       u'native_country_ Holand-Netherlands', u'native_country_ Honduras',\n",
      "       u'native_country_ Hong', u'native_country_ Hungary',\n",
      "       u'native_country_ India', u'native_country_ Iran',\n",
      "       u'native_country_ Ireland', u'native_country_ Italy',\n",
      "       u'native_country_ Jamaica', u'native_country_ Japan',\n",
      "       u'native_country_ Laos', u'native_country_ Mexico',\n",
      "       u'native_country_ Nicaragua',\n",
      "       u'native_country_ Outlying-US(Guam-USVI-etc)', u'native_country_ Peru',\n",
      "       u'native_country_ Philippines', u'native_country_ Poland',\n",
      "       u'native_country_ Portugal', u'native_country_ Puerto-Rico',\n",
      "       u'native_country_ Scotland', u'native_country_ South',\n",
      "       u'native_country_ Taiwan', u'native_country_ Thailand',\n",
      "       u'native_country_ Trinadad&Tobago', u'native_country_ United-States',\n",
      "       u'native_country_ Vietnam', u'native_country_ Yugoslavia', u'IsMale',\n",
      "       u'salary_cat_binary'],\n",
      "      dtype='object')\n"
     ]
    }
   ],
   "source": [
    "print(df.columns)"
   ]
  },
  {
   "cell_type": "code",
   "execution_count": 43,
   "metadata": {
    "collapsed": true
   },
   "outputs": [],
   "source": [
    "del df['education']"
   ]
  },
  {
   "cell_type": "code",
   "execution_count": 44,
   "metadata": {
    "collapsed": false
   },
   "outputs": [
    {
     "data": {
      "text/html": [
       "<div>\n",
       "<table border=\"1\" class=\"dataframe\">\n",
       "  <thead>\n",
       "    <tr style=\"text-align: right;\">\n",
       "      <th></th>\n",
       "      <th>age</th>\n",
       "      <th>fnlwgt</th>\n",
       "      <th>education_num</th>\n",
       "      <th>capital_gain</th>\n",
       "      <th>capital_loss</th>\n",
       "      <th>hours_per_week</th>\n",
       "      <th>workclass_ Federal-gov</th>\n",
       "      <th>workclass_ Local-gov</th>\n",
       "      <th>workclass_ Private</th>\n",
       "      <th>workclass_ Self-emp-inc</th>\n",
       "      <th>...</th>\n",
       "      <th>native_country_ Scotland</th>\n",
       "      <th>native_country_ South</th>\n",
       "      <th>native_country_ Taiwan</th>\n",
       "      <th>native_country_ Thailand</th>\n",
       "      <th>native_country_ Trinadad&amp;Tobago</th>\n",
       "      <th>native_country_ United-States</th>\n",
       "      <th>native_country_ Vietnam</th>\n",
       "      <th>native_country_ Yugoslavia</th>\n",
       "      <th>IsMale</th>\n",
       "      <th>salary_cat_binary</th>\n",
       "    </tr>\n",
       "  </thead>\n",
       "  <tbody>\n",
       "    <tr>\n",
       "      <th>count</th>\n",
       "      <td>30162.000000</td>\n",
       "      <td>3.016200e+04</td>\n",
       "      <td>30162.000000</td>\n",
       "      <td>30162.000000</td>\n",
       "      <td>30162.000000</td>\n",
       "      <td>30162.000000</td>\n",
       "      <td>30162.000000</td>\n",
       "      <td>30162.000000</td>\n",
       "      <td>30162.000000</td>\n",
       "      <td>30162.000000</td>\n",
       "      <td>...</td>\n",
       "      <td>30162.000000</td>\n",
       "      <td>30162.000000</td>\n",
       "      <td>30162.000000</td>\n",
       "      <td>30162.000000</td>\n",
       "      <td>30162.000000</td>\n",
       "      <td>30162.000000</td>\n",
       "      <td>30162.000000</td>\n",
       "      <td>30162.000000</td>\n",
       "      <td>30162.0</td>\n",
       "      <td>30162.000000</td>\n",
       "    </tr>\n",
       "    <tr>\n",
       "      <th>mean</th>\n",
       "      <td>38.437902</td>\n",
       "      <td>1.897938e+05</td>\n",
       "      <td>10.121312</td>\n",
       "      <td>1092.007858</td>\n",
       "      <td>88.372489</td>\n",
       "      <td>40.931238</td>\n",
       "      <td>0.031265</td>\n",
       "      <td>0.068530</td>\n",
       "      <td>0.738877</td>\n",
       "      <td>0.035608</td>\n",
       "      <td>...</td>\n",
       "      <td>0.000365</td>\n",
       "      <td>0.002354</td>\n",
       "      <td>0.001392</td>\n",
       "      <td>0.000564</td>\n",
       "      <td>0.000597</td>\n",
       "      <td>0.911876</td>\n",
       "      <td>0.002122</td>\n",
       "      <td>0.000530</td>\n",
       "      <td>0.0</td>\n",
       "      <td>0.248922</td>\n",
       "    </tr>\n",
       "    <tr>\n",
       "      <th>std</th>\n",
       "      <td>13.134665</td>\n",
       "      <td>1.056530e+05</td>\n",
       "      <td>2.549995</td>\n",
       "      <td>7406.346497</td>\n",
       "      <td>404.298370</td>\n",
       "      <td>11.979984</td>\n",
       "      <td>0.174035</td>\n",
       "      <td>0.252657</td>\n",
       "      <td>0.439254</td>\n",
       "      <td>0.185313</td>\n",
       "      <td>...</td>\n",
       "      <td>0.019094</td>\n",
       "      <td>0.048461</td>\n",
       "      <td>0.037291</td>\n",
       "      <td>0.023734</td>\n",
       "      <td>0.024422</td>\n",
       "      <td>0.283480</td>\n",
       "      <td>0.046016</td>\n",
       "      <td>0.023026</td>\n",
       "      <td>0.0</td>\n",
       "      <td>0.432396</td>\n",
       "    </tr>\n",
       "    <tr>\n",
       "      <th>min</th>\n",
       "      <td>17.000000</td>\n",
       "      <td>1.376900e+04</td>\n",
       "      <td>1.000000</td>\n",
       "      <td>0.000000</td>\n",
       "      <td>0.000000</td>\n",
       "      <td>1.000000</td>\n",
       "      <td>0.000000</td>\n",
       "      <td>0.000000</td>\n",
       "      <td>0.000000</td>\n",
       "      <td>0.000000</td>\n",
       "      <td>...</td>\n",
       "      <td>0.000000</td>\n",
       "      <td>0.000000</td>\n",
       "      <td>0.000000</td>\n",
       "      <td>0.000000</td>\n",
       "      <td>0.000000</td>\n",
       "      <td>0.000000</td>\n",
       "      <td>0.000000</td>\n",
       "      <td>0.000000</td>\n",
       "      <td>0.0</td>\n",
       "      <td>0.000000</td>\n",
       "    </tr>\n",
       "    <tr>\n",
       "      <th>25%</th>\n",
       "      <td>28.000000</td>\n",
       "      <td>1.176272e+05</td>\n",
       "      <td>9.000000</td>\n",
       "      <td>0.000000</td>\n",
       "      <td>0.000000</td>\n",
       "      <td>40.000000</td>\n",
       "      <td>0.000000</td>\n",
       "      <td>0.000000</td>\n",
       "      <td>0.000000</td>\n",
       "      <td>0.000000</td>\n",
       "      <td>...</td>\n",
       "      <td>0.000000</td>\n",
       "      <td>0.000000</td>\n",
       "      <td>0.000000</td>\n",
       "      <td>0.000000</td>\n",
       "      <td>0.000000</td>\n",
       "      <td>1.000000</td>\n",
       "      <td>0.000000</td>\n",
       "      <td>0.000000</td>\n",
       "      <td>0.0</td>\n",
       "      <td>0.000000</td>\n",
       "    </tr>\n",
       "    <tr>\n",
       "      <th>50%</th>\n",
       "      <td>37.000000</td>\n",
       "      <td>1.784250e+05</td>\n",
       "      <td>10.000000</td>\n",
       "      <td>0.000000</td>\n",
       "      <td>0.000000</td>\n",
       "      <td>40.000000</td>\n",
       "      <td>0.000000</td>\n",
       "      <td>0.000000</td>\n",
       "      <td>1.000000</td>\n",
       "      <td>0.000000</td>\n",
       "      <td>...</td>\n",
       "      <td>0.000000</td>\n",
       "      <td>0.000000</td>\n",
       "      <td>0.000000</td>\n",
       "      <td>0.000000</td>\n",
       "      <td>0.000000</td>\n",
       "      <td>1.000000</td>\n",
       "      <td>0.000000</td>\n",
       "      <td>0.000000</td>\n",
       "      <td>0.0</td>\n",
       "      <td>0.000000</td>\n",
       "    </tr>\n",
       "    <tr>\n",
       "      <th>75%</th>\n",
       "      <td>47.000000</td>\n",
       "      <td>2.376285e+05</td>\n",
       "      <td>13.000000</td>\n",
       "      <td>0.000000</td>\n",
       "      <td>0.000000</td>\n",
       "      <td>45.000000</td>\n",
       "      <td>0.000000</td>\n",
       "      <td>0.000000</td>\n",
       "      <td>1.000000</td>\n",
       "      <td>0.000000</td>\n",
       "      <td>...</td>\n",
       "      <td>0.000000</td>\n",
       "      <td>0.000000</td>\n",
       "      <td>0.000000</td>\n",
       "      <td>0.000000</td>\n",
       "      <td>0.000000</td>\n",
       "      <td>1.000000</td>\n",
       "      <td>0.000000</td>\n",
       "      <td>0.000000</td>\n",
       "      <td>0.0</td>\n",
       "      <td>0.000000</td>\n",
       "    </tr>\n",
       "    <tr>\n",
       "      <th>max</th>\n",
       "      <td>90.000000</td>\n",
       "      <td>1.484705e+06</td>\n",
       "      <td>16.000000</td>\n",
       "      <td>99999.000000</td>\n",
       "      <td>4356.000000</td>\n",
       "      <td>99.000000</td>\n",
       "      <td>1.000000</td>\n",
       "      <td>1.000000</td>\n",
       "      <td>1.000000</td>\n",
       "      <td>1.000000</td>\n",
       "      <td>...</td>\n",
       "      <td>1.000000</td>\n",
       "      <td>1.000000</td>\n",
       "      <td>1.000000</td>\n",
       "      <td>1.000000</td>\n",
       "      <td>1.000000</td>\n",
       "      <td>1.000000</td>\n",
       "      <td>1.000000</td>\n",
       "      <td>1.000000</td>\n",
       "      <td>0.0</td>\n",
       "      <td>1.000000</td>\n",
       "    </tr>\n",
       "  </tbody>\n",
       "</table>\n",
       "<p>8 rows × 88 columns</p>\n",
       "</div>"
      ],
      "text/plain": [
       "                age        fnlwgt  education_num  capital_gain  capital_loss  \\\n",
       "count  30162.000000  3.016200e+04   30162.000000  30162.000000  30162.000000   \n",
       "mean      38.437902  1.897938e+05      10.121312   1092.007858     88.372489   \n",
       "std       13.134665  1.056530e+05       2.549995   7406.346497    404.298370   \n",
       "min       17.000000  1.376900e+04       1.000000      0.000000      0.000000   \n",
       "25%       28.000000  1.176272e+05       9.000000      0.000000      0.000000   \n",
       "50%       37.000000  1.784250e+05      10.000000      0.000000      0.000000   \n",
       "75%       47.000000  2.376285e+05      13.000000      0.000000      0.000000   \n",
       "max       90.000000  1.484705e+06      16.000000  99999.000000   4356.000000   \n",
       "\n",
       "       hours_per_week  workclass_ Federal-gov  workclass_ Local-gov  \\\n",
       "count    30162.000000            30162.000000          30162.000000   \n",
       "mean        40.931238                0.031265              0.068530   \n",
       "std         11.979984                0.174035              0.252657   \n",
       "min          1.000000                0.000000              0.000000   \n",
       "25%         40.000000                0.000000              0.000000   \n",
       "50%         40.000000                0.000000              0.000000   \n",
       "75%         45.000000                0.000000              0.000000   \n",
       "max         99.000000                1.000000              1.000000   \n",
       "\n",
       "       workclass_ Private  workclass_ Self-emp-inc        ...          \\\n",
       "count        30162.000000             30162.000000        ...           \n",
       "mean             0.738877                 0.035608        ...           \n",
       "std              0.439254                 0.185313        ...           \n",
       "min              0.000000                 0.000000        ...           \n",
       "25%              0.000000                 0.000000        ...           \n",
       "50%              1.000000                 0.000000        ...           \n",
       "75%              1.000000                 0.000000        ...           \n",
       "max              1.000000                 1.000000        ...           \n",
       "\n",
       "       native_country_ Scotland  native_country_ South  \\\n",
       "count              30162.000000           30162.000000   \n",
       "mean                   0.000365               0.002354   \n",
       "std                    0.019094               0.048461   \n",
       "min                    0.000000               0.000000   \n",
       "25%                    0.000000               0.000000   \n",
       "50%                    0.000000               0.000000   \n",
       "75%                    0.000000               0.000000   \n",
       "max                    1.000000               1.000000   \n",
       "\n",
       "       native_country_ Taiwan  native_country_ Thailand  \\\n",
       "count            30162.000000              30162.000000   \n",
       "mean                 0.001392                  0.000564   \n",
       "std                  0.037291                  0.023734   \n",
       "min                  0.000000                  0.000000   \n",
       "25%                  0.000000                  0.000000   \n",
       "50%                  0.000000                  0.000000   \n",
       "75%                  0.000000                  0.000000   \n",
       "max                  1.000000                  1.000000   \n",
       "\n",
       "       native_country_ Trinadad&Tobago  native_country_ United-States  \\\n",
       "count                     30162.000000                   30162.000000   \n",
       "mean                          0.000597                       0.911876   \n",
       "std                           0.024422                       0.283480   \n",
       "min                           0.000000                       0.000000   \n",
       "25%                           0.000000                       1.000000   \n",
       "50%                           0.000000                       1.000000   \n",
       "75%                           0.000000                       1.000000   \n",
       "max                           1.000000                       1.000000   \n",
       "\n",
       "       native_country_ Vietnam  native_country_ Yugoslavia   IsMale  \\\n",
       "count             30162.000000                30162.000000  30162.0   \n",
       "mean                  0.002122                    0.000530      0.0   \n",
       "std                   0.046016                    0.023026      0.0   \n",
       "min                   0.000000                    0.000000      0.0   \n",
       "25%                   0.000000                    0.000000      0.0   \n",
       "50%                   0.000000                    0.000000      0.0   \n",
       "75%                   0.000000                    0.000000      0.0   \n",
       "max                   1.000000                    1.000000      0.0   \n",
       "\n",
       "       salary_cat_binary  \n",
       "count       30162.000000  \n",
       "mean            0.248922  \n",
       "std             0.432396  \n",
       "min             0.000000  \n",
       "25%             0.000000  \n",
       "50%             0.000000  \n",
       "75%             0.000000  \n",
       "max             1.000000  \n",
       "\n",
       "[8 rows x 88 columns]"
      ]
     },
     "execution_count": 44,
     "metadata": {},
     "output_type": "execute_result"
    }
   ],
   "source": [
    "df.describe()"
   ]
  },
  {
   "cell_type": "code",
   "execution_count": 45,
   "metadata": {
    "collapsed": false
   },
   "outputs": [
    {
     "name": "stdout",
     "output_type": "stream",
     "text": [
      "Index([u'age', u'fnlwgt', u'education_num', u'capital_gain', u'capital_loss',\n",
      "       u'hours_per_week', u'workclass_ Federal-gov', u'workclass_ Local-gov',\n",
      "       u'workclass_ Private', u'workclass_ Self-emp-inc',\n",
      "       u'workclass_ Self-emp-not-inc', u'workclass_ State-gov',\n",
      "       u'workclass_ Without-pay', u'marital_status_ Divorced',\n",
      "       u'marital_status_ Married-AF-spouse',\n",
      "       u'marital_status_ Married-civ-spouse',\n",
      "       u'marital_status_ Married-spouse-absent',\n",
      "       u'marital_status_ Never-married', u'marital_status_ Separated',\n",
      "       u'marital_status_ Widowed', u'occupation_ Adm-clerical',\n",
      "       u'occupation_ Armed-Forces', u'occupation_ Craft-repair',\n",
      "       u'occupation_ Exec-managerial', u'occupation_ Farming-fishing',\n",
      "       u'occupation_ Handlers-cleaners', u'occupation_ Machine-op-inspct',\n",
      "       u'occupation_ Other-service', u'occupation_ Priv-house-serv',\n",
      "       u'occupation_ Prof-specialty', u'occupation_ Protective-serv',\n",
      "       u'occupation_ Sales', u'occupation_ Tech-support',\n",
      "       u'occupation_ Transport-moving', u'relationship_ Husband',\n",
      "       u'relationship_ Not-in-family', u'relationship_ Other-relative',\n",
      "       u'relationship_ Own-child', u'relationship_ Unmarried',\n",
      "       u'relationship_ Wife', u'race_ Amer-Indian-Eskimo',\n",
      "       u'race_ Asian-Pac-Islander', u'race_ Black', u'race_ Other',\n",
      "       u'race_ White', u'native_country_ Cambodia', u'native_country_ Canada',\n",
      "       u'native_country_ China', u'native_country_ Columbia',\n",
      "       u'native_country_ Cuba', u'native_country_ Dominican-Republic',\n",
      "       u'native_country_ Ecuador', u'native_country_ El-Salvador',\n",
      "       u'native_country_ England', u'native_country_ France',\n",
      "       u'native_country_ Germany', u'native_country_ Greece',\n",
      "       u'native_country_ Guatemala', u'native_country_ Haiti',\n",
      "       u'native_country_ Holand-Netherlands', u'native_country_ Honduras',\n",
      "       u'native_country_ Hong', u'native_country_ Hungary',\n",
      "       u'native_country_ India', u'native_country_ Iran',\n",
      "       u'native_country_ Ireland', u'native_country_ Italy',\n",
      "       u'native_country_ Jamaica', u'native_country_ Japan',\n",
      "       u'native_country_ Laos', u'native_country_ Mexico',\n",
      "       u'native_country_ Nicaragua',\n",
      "       u'native_country_ Outlying-US(Guam-USVI-etc)', u'native_country_ Peru',\n",
      "       u'native_country_ Philippines', u'native_country_ Poland',\n",
      "       u'native_country_ Portugal', u'native_country_ Puerto-Rico',\n",
      "       u'native_country_ Scotland', u'native_country_ South',\n",
      "       u'native_country_ Taiwan', u'native_country_ Thailand',\n",
      "       u'native_country_ Trinadad&Tobago', u'native_country_ United-States',\n",
      "       u'native_country_ Vietnam', u'native_country_ Yugoslavia', u'IsMale',\n",
      "       u'salary_cat_binary'],\n",
      "      dtype='object')\n"
     ]
    }
   ],
   "source": [
    "print(df.columns)\n"
   ]
  },
  {
   "cell_type": "code",
   "execution_count": 46,
   "metadata": {
    "collapsed": false
   },
   "outputs": [
    {
     "name": "stdout",
     "output_type": "stream",
     "text": [
      "sklearn.cross_validation.KFold(n=30162, n_folds=10, shuffle=False, random_state=None)\n"
     ]
    }
   ],
   "source": [
    "# We did this above, this means we don't have 1 field for education, \n",
    "# probably means we need to delete all of this if we use education number.\n",
    "# Because of that, we might need to do the step right above this one at any earlier step.\n",
    "\n",
    "\n",
    "# For this project, we are going to do a 10 fold split? or maybe stratified\n",
    "if 'education_num' in df:\n",
    "    y = df['education_num'].values # get the labels we want\n",
    "    del df['education_num']\n",
    "X = df.values\n",
    "from sklearn.cross_validation import KFold \n",
    "cv_object = KFold(n=len(X), n_folds=10)\n",
    "print(cv_object)"
   ]
  },
  {
   "cell_type": "markdown",
   "metadata": {},
   "source": [
    "## K-Nearest Neighbors"
   ]
  },
  {
   "cell_type": "code",
   "execution_count": 47,
   "metadata": {
    "collapsed": false
   },
   "outputs": [
    {
     "name": "stdout",
     "output_type": "stream",
     "text": [
      "KNN accuracy 0.226046018169\n",
      "[1, 2, 3, 4, 5, 6, 7, 8, 9, 10, 11, 12, 13, 14, 15, 16, 17, 18, 19]\n",
      "{'n_neighbors': [1, 2, 3, 4, 5, 6, 7, 8, 9, 10, 11, 12, 13, 14, 15, 16, 17, 18, 19]}\n"
     ]
    },
    {
     "data": {
      "text/plain": [
       "GridSearchCV(cv=10, error_score='raise',\n",
       "       estimator=KNeighborsClassifier(algorithm='auto', leaf_size=30, metric='minkowski',\n",
       "           metric_params=None, n_jobs=1, n_neighbors=3, p=2,\n",
       "           weights='uniform'),\n",
       "       fit_params={}, iid=True, n_jobs=1,\n",
       "       param_grid={'n_neighbors': [1, 2, 3, 4, 5, 6, 7, 8, 9, 10, 11, 12, 13, 14, 15, 16, 17, 18, 19]},\n",
       "       pre_dispatch='2*n_jobs', refit=True, scoring='accuracy', verbose=0)"
      ]
     },
     "execution_count": 47,
     "metadata": {},
     "output_type": "execute_result"
    }
   ],
   "source": [
    "from sklearn.neighbors import KNeighborsClassifier\n",
    "from sklearn.cross_validation import StratifiedKFold, cross_val_score\n",
    "import numpy as np\n",
    "from sklearn import metrics as mt\n",
    "from sklearn.grid_search import GridSearchCV\n",
    "\n",
    "yhat = np.zeros(y.shape) # we will fill this with predictions\n",
    "\n",
    "# Create cross validation iterator\n",
    "cv = StratifiedKFold(y, n_folds=10)\n",
    "\n",
    "# Get a handle to the classifier object, which defines the type\n",
    "knn_clf = KNeighborsClassifier(n_neighbors=3)\n",
    "\n",
    "# Now iterate through and get predictions, saved to the correct row in yhat\n",
    "for train, test in cv:\n",
    "    knn_clf.fit(X[train],y[train])\n",
    "    yhat[test] = knn_clf.predict(X[test])\n",
    "\n",
    "total_accuracy = mt.accuracy_score(y, yhat)\n",
    "print 'KNN accuracy', total_accuracy\n",
    "\n",
    "# Source: https://youtu.be/Gol_qOgRqfA\n",
    "\n",
    "# Define parameter values to be searched\n",
    "k_range = range(1, 20)\n",
    "print(k_range)\n",
    "\n",
    "# Create parameter grid: map parameter names to values that should be searched\n",
    "param_grid = dict(n_neighbors=k_range)\n",
    "print(param_grid)\n",
    "\n",
    "# Instantiate the grid\n",
    "gs = GridSearchCV(knn_clf, param_grid = param_grid, cv = 10, scoring = 'accuracy')\n",
    "\n",
    "# Fit grid with data\n",
    "gs.fit(X,y)"
   ]
  },
  {
   "cell_type": "code",
   "execution_count": 48,
   "metadata": {
    "collapsed": false
   },
   "outputs": [
    {
     "data": {
      "text/plain": [
       "[mean: 0.22005, std: 0.00903, params: {'n_neighbors': 1},\n",
       " mean: 0.22760, std: 0.00510, params: {'n_neighbors': 2},\n",
       " mean: 0.22605, std: 0.00748, params: {'n_neighbors': 3},\n",
       " mean: 0.23656, std: 0.00642, params: {'n_neighbors': 4},\n",
       " mean: 0.25098, std: 0.00735, params: {'n_neighbors': 5},\n",
       " mean: 0.27021, std: 0.00596, params: {'n_neighbors': 6},\n",
       " mean: 0.27492, std: 0.00655, params: {'n_neighbors': 7},\n",
       " mean: 0.27899, std: 0.00588, params: {'n_neighbors': 8},\n",
       " mean: 0.28075, std: 0.00521, params: {'n_neighbors': 9},\n",
       " mean: 0.28380, std: 0.00452, params: {'n_neighbors': 10},\n",
       " mean: 0.28715, std: 0.00406, params: {'n_neighbors': 11},\n",
       " mean: 0.29007, std: 0.00345, params: {'n_neighbors': 12},\n",
       " mean: 0.29315, std: 0.00460, params: {'n_neighbors': 13},\n",
       " mean: 0.29328, std: 0.00342, params: {'n_neighbors': 14},\n",
       " mean: 0.29733, std: 0.00571, params: {'n_neighbors': 15},\n",
       " mean: 0.29736, std: 0.00370, params: {'n_neighbors': 16},\n",
       " mean: 0.30005, std: 0.00515, params: {'n_neighbors': 17},\n",
       " mean: 0.29925, std: 0.00568, params: {'n_neighbors': 18},\n",
       " mean: 0.29925, std: 0.00443, params: {'n_neighbors': 19}]"
      ]
     },
     "execution_count": 48,
     "metadata": {},
     "output_type": "execute_result"
    }
   ],
   "source": [
    "# View the complete results(list of named tuples)\n",
    "gs.grid_scores_"
   ]
  },
  {
   "cell_type": "code",
   "execution_count": 49,
   "metadata": {
    "collapsed": false
   },
   "outputs": [
    {
     "name": "stdout",
     "output_type": "stream",
     "text": [
      "[0.2200450898481533, 0.22760427027385452, 0.22604601816855646, 0.23655593130429017, 0.25097805185332539, 0.27020754591870566, 0.27491545653471255, 0.27899343544857769, 0.28075061335455209, 0.28380080896492277, 0.28714939327630795, 0.29006697168622769, 0.29315032159671112, 0.293282938797162, 0.29732776341091438, 0.29736091771102713, 0.3000464160201578, 0.29925071281745241, 0.29925071281745241]\n"
     ]
    }
   ],
   "source": [
    "# Create a list of the mean scores only\n",
    "grid_mean_scores = [result.mean_validation_score for result in gs.grid_scores_]\n",
    "print(grid_mean_scores)"
   ]
  },
  {
   "cell_type": "code",
   "execution_count": 50,
   "metadata": {
    "collapsed": false
   },
   "outputs": [
    {
     "data": {
      "text/plain": [
       "<matplotlib.text.Text at 0x7ff4ba8>"
      ]
     },
     "execution_count": 50,
     "metadata": {},
     "output_type": "execute_result"
    },
    {
     "data": {
      "image/png": "[encoded data removed]",
      "text/plain": [
       "<matplotlib.figure.Figure at 0x18ff97b8>"
      ]
     },
     "metadata": {},
     "output_type": "display_data"
    }
   ],
   "source": [
    "# Plot the results\n",
    "plt.plot(k_range, grid_mean_scores)\n",
    "plt.xlabel('Value of K for KNN')\n",
    "plt.ylabel('Cross-Validation Accuracy')"
   ]
  },
  {
   "cell_type": "code",
   "execution_count": 51,
   "metadata": {
    "collapsed": false
   },
   "outputs": [
    {
     "name": "stdout",
     "output_type": "stream",
     "text": [
      "0.30004641602\n",
      "{'n_neighbors': 17}\n",
      "KNeighborsClassifier(algorithm='auto', leaf_size=30, metric='minkowski',\n",
      "           metric_params=None, n_jobs=1, n_neighbors=17, p=2,\n",
      "           weights='uniform')\n"
     ]
    }
   ],
   "source": [
    "# Examine the best model\n",
    "print gs.best_score_\n",
    "print gs.best_params_\n",
    "print gs.best_estimator_"
   ]
  },
  {
   "cell_type": "code",
   "execution_count": 52,
   "metadata": {
    "collapsed": false
   },
   "outputs": [
    {
     "name": "stdout",
     "output_type": "stream",
     "text": [
      "{'n_neighbors': 17}\n",
      "[ 0.29516876  0.29559748  0.29437086  0.30033113  0.3050679   0.30271883\n",
      "  0.29210875  0.30179283  0.30551862  0.30784574]\n",
      "0.30004641602\n"
     ]
    }
   ],
   "source": [
    "# Examine the sevententh tuple, the optimal model parameters and save scores for statistical test\n",
    "print gs.grid_scores_[16].parameters\n",
    "print gs.grid_scores_[16].cv_validation_scores\n",
    "print gs.grid_scores_[16].mean_validation_score\n",
    "knn_2 = gs.grid_scores_[16].cv_validation_scores"
   ]
  },
  {
   "cell_type": "code",
   "execution_count": 53,
   "metadata": {
    "collapsed": false
   },
   "outputs": [
    {
     "name": "stdout",
     "output_type": "stream",
     "text": [
      "KNN accuracy 0.30004641602\n"
     ]
    }
   ],
   "source": [
    "yhat = np.zeros(y.shape) # We will fill this with predictions\n",
    "\n",
    "# Create cross validation iterator\n",
    "cv = StratifiedKFold(y, n_folds=10)\n",
    "\n",
    "# Get a handle to the classifier object, which defines the type\n",
    "knn_clf = KNeighborsClassifier(n_neighbors=17)\n",
    "\n",
    "# Now iterate through and get predictions, saved to the correct row in yhat\n",
    "for train, test in cv:\n",
    "    knn_clf.fit(X[train],y[train])\n",
    "    yhat[test] = knn_clf.predict(X[test])\n",
    "\n",
    "total_accuracy = mt.accuracy_score(y, yhat)\n",
    "print 'KNN accuracy', total_accuracy"
   ]
  },
  {
   "cell_type": "markdown",
   "metadata": {},
   "source": [
    "The K-Nearest Neighbors classifier produced a 30% accuracy of correctly classifying an individual's education level based on the other given variables in the dataset. This could be of use in a business setting because it may be important for a business to understand the education level of the demographics of the target customer base. Unfortunately, getting it correct only 30% of the time is not very accurate and can result in many errors costing a business a lot of money in marketing products to the wrong demographic. For this dataset, KNN may not be the best algorithm to be using when predicting the education class of an individual."
   ]
  },
  {
   "cell_type": "markdown",
   "metadata": {},
   "source": [
    "## Random Forest"
   ]
  },
  {
   "cell_type": "code",
   "execution_count": 54,
   "metadata": {
    "collapsed": false
   },
   "outputs": [
    {
     "name": "stdout",
     "output_type": "stream",
     "text": [
      "Random Forest Accuracy 0.371460778463\n"
     ]
    }
   ],
   "source": [
    "from sklearn.ensemble import RandomForestClassifier\n",
    "from sklearn.grid_search import GridSearchCV\n",
    "\n",
    "rf_clf = RandomForestClassifier(max_depth=50, n_estimators=150, n_jobs=-1, oob_score=True)\n",
    "\n",
    "# Now iterate through and get predictions, saved to the correct row in yhat\n",
    "for train, test in cv:\n",
    "    rf_clf.fit(X[train],y[train])\n",
    "    yhat[test] = rf_clf.predict(X[test])    \n",
    "\n",
    "    total_accuracy = mt.accuracy_score(y, yhat)\n",
    "print 'Random Forest Accuracy', total_accuracy"
   ]
  },
  {
   "cell_type": "code",
   "execution_count": 55,
   "metadata": {
    "collapsed": false
   },
   "outputs": [
    {
     "name": "stdout",
     "output_type": "stream",
     "text": [
      "{'max_depth': [25, 50, 75, 100]}\n"
     ]
    }
   ],
   "source": [
    "# Create a parameter grid: map the parameter names to the values that should be searched\n",
    "param_grid = {\"max_depth\": [25, 50, 75, 100]}\n",
    "print param_grid"
   ]
  },
  {
   "cell_type": "code",
   "execution_count": 56,
   "metadata": {
    "collapsed": false
   },
   "outputs": [
    {
     "data": {
      "text/plain": [
       "GridSearchCV(cv=10, error_score='raise',\n",
       "       estimator=RandomForestClassifier(bootstrap=True, class_weight=None, criterion='gini',\n",
       "            max_depth=50, max_features='auto', max_leaf_nodes=None,\n",
       "            min_samples_leaf=1, min_samples_split=2,\n",
       "            min_weight_fraction_leaf=0.0, n_estimators=150, n_jobs=-1,\n",
       "            oob_score=True, random_state=None, verbose=0, warm_start=False),\n",
       "       fit_params={}, iid=True, n_jobs=1,\n",
       "       param_grid={'max_depth': [25, 50, 75, 100]},\n",
       "       pre_dispatch='2*n_jobs', refit=True, scoring='accuracy', verbose=0)"
      ]
     },
     "execution_count": 56,
     "metadata": {},
     "output_type": "execute_result"
    }
   ],
   "source": [
    "# Instantiate and fit the grid\n",
    "gs = GridSearchCV(rf_clf, param_grid, cv = 10, scoring = 'accuracy')\n",
    "gs.fit(X,y)"
   ]
  },
  {
   "cell_type": "code",
   "execution_count": 57,
   "metadata": {
    "collapsed": false
   },
   "outputs": [
    {
     "data": {
      "text/plain": [
       "[mean: 0.41602, std: 0.00762, params: {'max_depth': 25},\n",
       " mean: 0.37275, std: 0.00682, params: {'max_depth': 50},\n",
       " mean: 0.36974, std: 0.00921, params: {'max_depth': 75},\n",
       " mean: 0.37126, std: 0.00861, params: {'max_depth': 100}]"
      ]
     },
     "execution_count": 57,
     "metadata": {},
     "output_type": "execute_result"
    }
   ],
   "source": [
    "# View the complete results\n",
    "gs.grid_scores_"
   ]
  },
  {
   "cell_type": "code",
   "execution_count": 58,
   "metadata": {
    "collapsed": false
   },
   "outputs": [
    {
     "name": "stdout",
     "output_type": "stream",
     "text": [
      "0.416020157814\n",
      "{'max_depth': 25}\n"
     ]
    }
   ],
   "source": [
    "# Examine the best model\n",
    "print gs.best_score_\n",
    "print gs.best_params_"
   ]
  },
  {
   "cell_type": "markdown",
   "metadata": {},
   "source": [
    "Since the grid search yielded the lowest given parameter for the depth of the model, we decided to investigate further to see if we could use an even smaller max depth. We did this by changing the parameters below. "
   ]
  },
  {
   "cell_type": "code",
   "execution_count": 59,
   "metadata": {
    "collapsed": false
   },
   "outputs": [
    {
     "name": "stdout",
     "output_type": "stream",
     "text": [
      "{'max_depth': [15, 25, 35]}\n"
     ]
    }
   ],
   "source": [
    "param_grid = {\"max_depth\": [15, 25, 35]}\n",
    "print param_grid"
   ]
  },
  {
   "cell_type": "code",
   "execution_count": 60,
   "metadata": {
    "collapsed": false
   },
   "outputs": [
    {
     "data": {
      "text/plain": [
       "GridSearchCV(cv=10, error_score='raise',\n",
       "       estimator=RandomForestClassifier(bootstrap=True, class_weight=None, criterion='gini',\n",
       "            max_depth=50, max_features='auto', max_leaf_nodes=None,\n",
       "            min_samples_leaf=1, min_samples_split=2,\n",
       "            min_weight_fraction_leaf=0.0, n_estimators=150, n_jobs=-1,\n",
       "            oob_score=True, random_state=None, verbose=0, warm_start=False),\n",
       "       fit_params={}, iid=True, n_jobs=1,\n",
       "       param_grid={'max_depth': [15, 25, 35]}, pre_dispatch='2*n_jobs',\n",
       "       refit=True, scoring='accuracy', verbose=0)"
      ]
     },
     "execution_count": 60,
     "metadata": {},
     "output_type": "execute_result"
    }
   ],
   "source": [
    "# Instantiate and fit the grid\n",
    "gs = GridSearchCV(rf_clf, param_grid, cv = 10, scoring = 'accuracy')\n",
    "gs.fit(X,y)"
   ]
  },
  {
   "cell_type": "code",
   "execution_count": 61,
   "metadata": {
    "collapsed": false
   },
   "outputs": [
    {
     "data": {
      "text/plain": [
       "[mean: 0.43174, std: 0.00573, params: {'max_depth': 15},\n",
       " mean: 0.41433, std: 0.00721, params: {'max_depth': 25},\n",
       " mean: 0.38572, std: 0.00812, params: {'max_depth': 35}]"
      ]
     },
     "execution_count": 61,
     "metadata": {},
     "output_type": "execute_result"
    }
   ],
   "source": [
    "# View the complete results\n",
    "gs.grid_scores_"
   ]
  },
  {
   "cell_type": "code",
   "execution_count": 62,
   "metadata": {
    "collapsed": false
   },
   "outputs": [
    {
     "name": "stdout",
     "output_type": "stream",
     "text": [
      "0.431735296068\n",
      "{'max_depth': 15}\n"
     ]
    }
   ],
   "source": [
    "# Examine the best model\n",
    "print gs.best_score_\n",
    "print gs.best_params_"
   ]
  },
  {
   "cell_type": "code",
   "execution_count": 63,
   "metadata": {
    "collapsed": false
   },
   "outputs": [
    {
     "name": "stdout",
     "output_type": "stream",
     "text": [
      "{'max_depth': [5, 10, 15]}\n"
     ]
    }
   ],
   "source": [
    "param_grid = {\"max_depth\": [5, 10, 15]}\n",
    "print param_grid"
   ]
  },
  {
   "cell_type": "code",
   "execution_count": 64,
   "metadata": {
    "collapsed": false
   },
   "outputs": [
    {
     "name": "stdout",
     "output_type": "stream",
     "text": [
      "{'max_depth': [5, 10, 15]}\n"
     ]
    },
    {
     "data": {
      "text/plain": [
       "GridSearchCV(cv=10, error_score='raise',\n",
       "       estimator=RandomForestClassifier(bootstrap=True, class_weight=None, criterion='gini',\n",
       "            max_depth=50, max_features='auto', max_leaf_nodes=None,\n",
       "            min_samples_leaf=1, min_samples_split=2,\n",
       "            min_weight_fraction_leaf=0.0, n_estimators=150, n_jobs=-1,\n",
       "            oob_score=True, random_state=None, verbose=0, warm_start=False),\n",
       "       fit_params={}, iid=True, n_jobs=1,\n",
       "       param_grid={'max_depth': [5, 10, 15]}, pre_dispatch='2*n_jobs',\n",
       "       refit=True, scoring='accuracy', verbose=0)"
      ]
     },
     "execution_count": 64,
     "metadata": {},
     "output_type": "execute_result"
    }
   ],
   "source": [
    "print param_grid# Instantiate and fit the grid\n",
    "gs = GridSearchCV(rf_clf, param_grid, cv = 10, scoring = 'accuracy')\n",
    "gs.fit(X,y)"
   ]
  },
  {
   "cell_type": "code",
   "execution_count": 65,
   "metadata": {
    "collapsed": false
   },
   "outputs": [
    {
     "name": "stdout",
     "output_type": "stream",
     "text": [
      "0.430077581062\n",
      "{'max_depth': 15}\n"
     ]
    }
   ],
   "source": [
    "# Examine the best model\n",
    "print gs.best_score_\n",
    "print gs.best_params_"
   ]
  },
  {
   "cell_type": "code",
   "execution_count": 66,
   "metadata": {
    "collapsed": false
   },
   "outputs": [
    {
     "name": "stdout",
     "output_type": "stream",
     "text": [
      "{'max_depth': 15}\n",
      "[ 0.41760424  0.42634889  0.43443709  0.42218543  0.4309374   0.43832891\n",
      "  0.43103448  0.43691899  0.42918883  0.43384309]\n",
      "0.430077581062\n"
     ]
    }
   ],
   "source": [
    "# Examine the thrid tuple, the optimal model parameters and save scores for statistical test\n",
    "print gs.grid_scores_[2].parameters\n",
    "print gs.grid_scores_[2].cv_validation_scores\n",
    "print gs.grid_scores_[2].mean_validation_score\n",
    "rf_2 = gs.grid_scores_[2].cv_validation_scores"
   ]
  },
  {
   "cell_type": "markdown",
   "metadata": {},
   "source": [
    "We found the best parameter using grid search and now we will use those parameters to perform the Random Forest again below."
   ]
  },
  {
   "cell_type": "code",
   "execution_count": 67,
   "metadata": {
    "collapsed": false
   },
   "outputs": [
    {
     "name": "stdout",
     "output_type": "stream",
     "text": [
      "Random Forest Accuracy 0.431668987468\n"
     ]
    }
   ],
   "source": [
    "# Using the best parameters to make prediction\n",
    "# Train model using all dtaa and the best known parameters\n",
    "rfc = RandomForestClassifier(max_depth=15, n_estimators=150, n_jobs=-1, oob_score=True)\n",
    "\n",
    "# now iterate through and get predictions, saved to the correct row in yhat\n",
    "for train, test in cv:\n",
    "    rfc.fit(X[train],y[train])\n",
    "    yhat[test] = rfc.predict(X[test])  \n",
    "    \n",
    "total_accuracy = mt.accuracy_score(y, yhat)\n",
    "print 'Random Forest Accuracy', total_accuracy"
   ]
  },
  {
   "cell_type": "markdown",
   "metadata": {},
   "source": [
    "In this model, we can expect that our most optimal model would produce a max depth of 15 and give an 43% accuracy of properly classifying."
   ]
  },
  {
   "cell_type": "markdown",
   "metadata": {},
   "source": [
    "## Logistic Regression"
   ]
  },
  {
   "cell_type": "code",
   "execution_count": 68,
   "metadata": {
    "collapsed": false
   },
   "outputs": [
    {
     "name": "stdout",
     "output_type": "stream",
     "text": [
      "[ 0.32449453  0.3291349   0.32460212  0.33687003  0.33720159  0.33421751\n",
      "  0.32062334  0.31598143  0.32161804  0.31763926]\n"
     ]
    }
   ],
   "source": [
    "# Reference: https://github.com/eclarson/DataMiningNotebooks/blob/master/04.%20Logits and SVM.ipynb\n",
    "# Run logistic regression and vary some parameters\n",
    "from sklearn.linear_model import LogisticRegression\n",
    "from sklearn.cross_validation import cross_val_score\n",
    "from sklearn import metrics as mt\n",
    "\n",
    "# First we create a reusable logisitic regression object\n",
    "# Here we can setup the object with different learning parameters and constants\n",
    "lr_clf = LogisticRegression(penalty='l2', C=1.0, class_weight=None) # get object\n",
    "\n",
    "# Now we can use the cv_object that we setup before to iterate through the \n",
    "#    different training and testing sets. Each time we will reuse the logisitic regression \n",
    "#    object, but it gets trained on different data each time we use it.\n",
    "\n",
    "iter_num=0\n",
    "# The indices are the rows used for training and testing in each iteration\n",
    "for train_indices, test_indices in cv_object: \n",
    "    # We will create new variables here so that it is more obvious what \n",
    "    # the code is doing (you can compact this syntax and avoid duplicating memory,\n",
    "    # but it makes this code less readable)\n",
    "    X_train = X[train_indices]\n",
    "    y_train = y[train_indices]\n",
    "    \n",
    "    X_test = X[test_indices]\n",
    "    y_test = y[test_indices]\n",
    "    \n",
    "    # Train the reusable logisitc regression model on the training data\n",
    "    lr_clf.fit(X_train,y_train)  # Train object\n",
    "    y_hat = lr_clf.predict(X_test) # Get test set precitions\n",
    "\n",
    "    # View accuracies\n",
    "accuracies = cross_val_score(lr_clf, X, y=y, cv=cv_object) # This also can help with parallelism\n",
    "lr_2 = cross_val_score(lr_clf, X, y=y, cv=cv_object) # Store for statistical test\n",
    "print(accuracies)"
   ]
  },
  {
   "cell_type": "markdown",
   "metadata": {},
   "source": [
    "From Logistic Regression we can expect a 33% accuracy in predicting an individuals education level."
   ]
  },
  {
   "cell_type": "markdown",
   "metadata": {},
   "source": [
    "# Significance Tests"
   ]
  },
  {
   "cell_type": "markdown",
   "metadata": {},
   "source": [
    "## Task 1 Significance Test"
   ]
  },
  {
   "cell_type": "code",
   "execution_count": 69,
   "metadata": {
    "collapsed": false
   },
   "outputs": [
    {
     "name": "stdout",
     "output_type": "stream",
     "text": [
      "0.789437046849\n",
      "0.85989079621\n",
      "0.837891596221\n"
     ]
    },
    {
     "data": {
      "text/plain": [
       "Ttest_indResult(statistic=5.3327048365071592, pvalue=0.00024007504657524729)"
      ]
     },
     "execution_count": 69,
     "metadata": {},
     "output_type": "execute_result"
    }
   ],
   "source": [
    "from scipy import stats\n",
    "\n",
    "# Print mean accuracies for first task, predicting whether an individual makes more or less than 50K annually.\n",
    "print knn_1.mean()\n",
    "print rf_1.mean()\n",
    "print lr_1.mean()\n",
    "\n",
    "# Compare Random Forest (86% accuracy) and Logistic Regression (84% accuracy) models to determine if the difference \n",
    "# significant with 95% confidence?\n",
    "stats.ttest_ind(rf_1,lr_1)"
   ]
  },
  {
   "cell_type": "markdown",
   "metadata": {},
   "source": [
    "## Task 2 Significance Test"
   ]
  },
  {
   "cell_type": "code",
   "execution_count": 70,
   "metadata": {
    "collapsed": false
   },
   "outputs": [
    {
     "name": "stdout",
     "output_type": "stream",
     "text": [
      "0.300052091331\n",
      "0.430082734057\n",
      "0.326238274886\n"
     ]
    },
    {
     "data": {
      "text/plain": [
       "Ttest_indResult(statistic=32.386159663032537, pvalue=2.070481983885274e-17)"
      ]
     },
     "execution_count": 70,
     "metadata": {},
     "output_type": "execute_result"
    }
   ],
   "source": [
    "# Print mean accuracies for second task,predicting the education level of an individual.\n",
    "print knn_2.mean()\n",
    "print rf_2.mean()\n",
    "print lr_2.mean()\n",
    "\n",
    "# Compare Random Forest (43% accuracy) and Logistic Regression (33% accuracy) models to determine if the difference \n",
    "# significant with 95% confidence?\n",
    "stats.ttest_ind(rf_2,lr_2)"
   ]
  },
  {
   "cell_type": "markdown",
   "metadata": {
    "collapsed": true
   },
   "source": [
    "## Conclusion\n",
    "Based on this analysis, we feel confident that our model can accurately predict whether an individual makes more or less than 50K annually. <br>\n",
    "\n",
    "* From KNN we can expect a 79% accuracy in predicting whether an individual will make more or less than 50K annually.<br>\n",
    "* From Random Forest we can expect a 86% accuracy in predicting whether an individual will make more or less than 50K annually.<br>\n",
    "* From Logistic Regression we can expect a 84% accuracy in predicting whether an individual will make more or less than 50K annually.<br>\n",
    "\n",
    "We can say our random forest model is the most accurate, since a significant difference with 95% confidence between Random Forest (86% accuracy) and Logistic Regression (84% accuracy) exists, T-statistic = 5.9 with p-value = 0.0001.\n",
    "\n",
    "We feel that our model is less accurate in predicting and individual's education level. \n",
    "\n",
    "* From KNN we can expect a 30% accuracy in predicting and individual's education level.<br>\n",
    "* From Random Forest we can expect a 43% accuracy predicting and individual's education level.<br>\n",
    "* From Logistic Regression we can expect a 33% accuracy predicting and individual's education level.<br>\n",
    "\n",
    "We can say our random forest model is the most accurate, since a significant difference with 95% confidence between Random Forest (43% accuracy) and Logistic Regression (33% accuracy) exists, T-statistic = 33.2 with p-value < 0.0001."
   ]
  },
  {
   "cell_type": "code",
   "execution_count": null,
   "metadata": {
    "collapsed": true
   },
   "outputs": [],
   "source": []
  }
 ],
 "metadata": {
  "kernelspec": {
   "display_name": "Python 2",
   "language": "python",
   "name": "python2"
  },
  "language_info": {
   "codemirror_mode": {
    "name": "ipython",
    "version": 2
   },
   "file_extension": ".py",
   "mimetype": "text/x-python",
   "name": "python",
   "nbconvert_exporter": "python",
   "pygments_lexer": "ipython2",
   "version": "2.7.11"
  }
 },
 "nbformat": 4,
 "nbformat_minor": 0
}
